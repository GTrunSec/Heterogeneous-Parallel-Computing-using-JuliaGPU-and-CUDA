{
  "nbformat": 4,
  "nbformat_minor": 0,
  "metadata": {
    "colab": {
      "name": "Array-addition.ipynb",
      "version": "0.3.2",
      "provenance": [],
      "collapsed_sections": []
    },
    "kernelspec": {
      "name": "julia-1.0",
      "display_name": "Julia 1.0"
    },
    "accelerator": "GPU"
  },
  "cells": [
    {
      "cell_type": "markdown",
      "metadata": {
        "id": "duzapYFOiRbS",
        "colab_type": "text"
      },
      "source": [
        "> # Array-Addition\n",
        "\n",
        "\n",
        "### `Adding elements of two large arrays using Parallel code and then benchmarking it with the serial implementation of the same.`"
      ]
    },
    {
      "cell_type": "code",
      "metadata": {
        "id": "s-AuL-nNVGPX",
        "colab_type": "code",
        "outputId": "a5bd6c62-e9f6-4bd8-a5f4-4a5f32b9f0db",
        "colab": {
          "base_uri": "https://localhost:8080/",
          "height": 503
        }
      },
      "source": [
        "using Pkg\n",
        "Pkg.add(\"CuArrays\")\n",
        "Pkg.add(\"CUDAnative\")\n",
        "Pkg.add(\"CUDAdrv\")\n",
        "Pkg.add(\"BenchmarkTools\")\n",
        "Pkg.add(\"Test\")"
      ],
      "execution_count": 1,
      "outputs": [
        {
          "output_type": "stream",
          "text": [
            "\u001b[32m\u001b[1m  Updating\u001b[22m\u001b[39m registry at `~/.julia/registries/General`\n",
            "\u001b[32m\u001b[1m  Updating\u001b[22m\u001b[39m git-repo `https://github.com/JuliaRegistries/General.git`\n",
            "\u001b[?25l\u001b[2K\u001b[?25h\u001b[32m\u001b[1m Resolving\u001b[22m\u001b[39m package versions...\n",
            "\u001b[32m\u001b[1m  Updating\u001b[22m\u001b[39m `~/.julia/environments/v1.0/Project.toml`\n",
            "\u001b[90m [no changes]\u001b[39m\n",
            "\u001b[32m\u001b[1m  Updating\u001b[22m\u001b[39m `~/.julia/environments/v1.0/Manifest.toml`\n",
            "\u001b[90m [no changes]\u001b[39m\n",
            "\u001b[32m\u001b[1m Resolving\u001b[22m\u001b[39m package versions...\n",
            "\u001b[32m\u001b[1m  Updating\u001b[22m\u001b[39m `~/.julia/environments/v1.0/Project.toml`\n",
            "\u001b[90m [no changes]\u001b[39m\n",
            "\u001b[32m\u001b[1m  Updating\u001b[22m\u001b[39m `~/.julia/environments/v1.0/Manifest.toml`\n",
            "\u001b[90m [no changes]\u001b[39m\n",
            "\u001b[32m\u001b[1m Resolving\u001b[22m\u001b[39m package versions...\n",
            "\u001b[32m\u001b[1m  Updating\u001b[22m\u001b[39m `~/.julia/environments/v1.0/Project.toml`\n",
            "\u001b[90m [no changes]\u001b[39m\n",
            "\u001b[32m\u001b[1m  Updating\u001b[22m\u001b[39m `~/.julia/environments/v1.0/Manifest.toml`\n",
            "\u001b[90m [no changes]\u001b[39m\n",
            "\u001b[32m\u001b[1m Resolving\u001b[22m\u001b[39m package versions...\n",
            "\u001b[32m\u001b[1m  Updating\u001b[22m\u001b[39m `~/.julia/environments/v1.0/Project.toml`\n",
            "\u001b[90m [no changes]\u001b[39m\n",
            "\u001b[32m\u001b[1m  Updating\u001b[22m\u001b[39m `~/.julia/environments/v1.0/Manifest.toml`\n",
            "\u001b[90m [no changes]\u001b[39m\n",
            "\u001b[32m\u001b[1m Resolving\u001b[22m\u001b[39m package versions...\n",
            "\u001b[32m\u001b[1m  Updating\u001b[22m\u001b[39m `~/.julia/environments/v1.0/Project.toml`\n",
            "\u001b[90m [no changes]\u001b[39m\n",
            "\u001b[32m\u001b[1m  Updating\u001b[22m\u001b[39m `~/.julia/environments/v1.0/Manifest.toml`\n",
            "\u001b[90m [no changes]\u001b[39m\n"
          ],
          "name": "stdout"
        }
      ]
    },
    {
      "cell_type": "code",
      "metadata": {
        "id": "Sd1IJW1BKHTh",
        "colab_type": "code",
        "colab": {}
      },
      "source": [
        "using CUDAnative, CUDAdrv, CuArrays, BenchmarkTools, Test"
      ],
      "execution_count": 0,
      "outputs": []
    },
    {
      "cell_type": "code",
      "metadata": {
        "id": "kFA36w4KjTzf",
        "colab_type": "code",
        "colab": {
          "base_uri": "https://localhost:8080/",
          "height": 35
        },
        "outputId": "7a8f9b01-0557-4286-edd7-363b5371d3f0"
      },
      "source": [
        "# Implementation using serial code\n",
        "\n",
        "function serial_array_add!(a,b,c)\n",
        "  c .= a .+ b\n",
        "end"
      ],
      "execution_count": 23,
      "outputs": [
        {
          "output_type": "execute_result",
          "data": {
            "text/plain": [
              "serial_array_add! (generic function with 1 method)"
            ]
          },
          "metadata": {
            "tags": []
          },
          "execution_count": 23
        }
      ]
    },
    {
      "cell_type": "code",
      "metadata": {
        "id": "nduZlGgkiFjE",
        "colab_type": "code",
        "colab": {
          "base_uri": "https://localhost:8080/",
          "height": 35
        },
        "outputId": "9ec41907-50da-4308-d226-2a3531d8dd80"
      },
      "source": [
        "# Implementation using parallel CUDA Kernel\n",
        "\n",
        "function parallel_array_add!(a,b,c)\n",
        "\n",
        "  idx = (blockIdx().x-1) * blockDim().x + threadIdx().x\n",
        "  \n",
        "  if(idx <= size(c,1))\n",
        "    @inbounds c[idx] = a[idx] + b[idx]\n",
        "  end\n",
        "  \n",
        "  return nothing\n",
        "end"
      ],
      "execution_count": 24,
      "outputs": [
        {
          "output_type": "execute_result",
          "data": {
            "text/plain": [
              "parallel_array_add! (generic function with 1 method)"
            ]
          },
          "metadata": {
            "tags": []
          },
          "execution_count": 24
        }
      ]
    },
    {
      "cell_type": "code",
      "metadata": {
        "id": "aSLjBnoykupG",
        "colab_type": "code",
        "colab": {
          "base_uri": "https://localhost:8080/",
          "height": 503
        },
        "outputId": "e3ab5dcc-1e1c-42f8-a73f-ab331c7ea90b"
      },
      "source": [
        "N = 2^20\n",
        "a = rand(N)\n",
        "b = rand(N)\n",
        "serial_result = zeros(N)\n",
        "parallel_result = zeros(N)\n",
        "\n",
        "# serial_result would be the result after serial addition of two arrays\n",
        "# parallel_result would be the result after parallel addition of two arrays "
      ],
      "execution_count": 25,
      "outputs": [
        {
          "output_type": "execute_result",
          "data": {
            "text/plain": [
              "1048576-element Array{Float64,1}:\n",
              " 0.0\n",
              " 0.0\n",
              " 0.0\n",
              " 0.0\n",
              " 0.0\n",
              " 0.0\n",
              " 0.0\n",
              " 0.0\n",
              " 0.0\n",
              " 0.0\n",
              " 0.0\n",
              " 0.0\n",
              " 0.0\n",
              " ⋮  \n",
              " 0.0\n",
              " 0.0\n",
              " 0.0\n",
              " 0.0\n",
              " 0.0\n",
              " 0.0\n",
              " 0.0\n",
              " 0.0\n",
              " 0.0\n",
              " 0.0\n",
              " 0.0\n",
              " 0.0"
            ]
          },
          "metadata": {
            "tags": []
          },
          "execution_count": 25
        }
      ]
    },
    {
      "cell_type": "code",
      "metadata": {
        "id": "yaHpRw46mHoP",
        "colab_type": "code",
        "colab": {
          "base_uri": "https://localhost:8080/",
          "height": 503
        },
        "outputId": "a32308cd-2519-4d09-fbcf-4c48c2111737"
      },
      "source": [
        "Device_a=CuArray(a)\n",
        "Device_b=CuArray(b)\n",
        "Device_result=CuArray(parallel_result)\n",
        "\n",
        "# allocating memory on GPU(Device)"
      ],
      "execution_count": 26,
      "outputs": [
        {
          "output_type": "execute_result",
          "data": {
            "text/plain": [
              "1048576-element CuArray{Float64,1}:\n",
              " 0.0\n",
              " 0.0\n",
              " 0.0\n",
              " 0.0\n",
              " 0.0\n",
              " 0.0\n",
              " 0.0\n",
              " 0.0\n",
              " 0.0\n",
              " 0.0\n",
              " 0.0\n",
              " 0.0\n",
              " 0.0\n",
              " ⋮  \n",
              " 0.0\n",
              " 0.0\n",
              " 0.0\n",
              " 0.0\n",
              " 0.0\n",
              " 0.0\n",
              " 0.0\n",
              " 0.0\n",
              " 0.0\n",
              " 0.0\n",
              " 0.0\n",
              " 0.0"
            ]
          },
          "metadata": {
            "tags": []
          },
          "execution_count": 26
        }
      ]
    },
    {
      "cell_type": "code",
      "metadata": {
        "id": "FXaE2S3ZmJhr",
        "colab_type": "code",
        "colab": {
          "base_uri": "https://localhost:8080/",
          "height": 503
        },
        "outputId": "2c1500dc-4757-4261-be57-1123cd4aa532"
      },
      "source": [
        "serial_array_add!(a,b,serial_result)"
      ],
      "execution_count": 27,
      "outputs": [
        {
          "output_type": "execute_result",
          "data": {
            "text/plain": [
              "1048576-element Array{Float64,1}:\n",
              " 1.551014628332057  \n",
              " 0.8357149293529884 \n",
              " 0.9422275980542627 \n",
              " 0.252230130941983  \n",
              " 0.8221095977064417 \n",
              " 1.0175049548023267 \n",
              " 0.8450697011035475 \n",
              " 0.7336682673783679 \n",
              " 0.7036961407539621 \n",
              " 0.8723674468917757 \n",
              " 0.39851313281466383\n",
              " 0.3029388182289803 \n",
              " 1.0949325154452676 \n",
              " ⋮                  \n",
              " 1.3725077924315896 \n",
              " 1.5654275490990286 \n",
              " 0.3738082766468458 \n",
              " 0.5232438862044433 \n",
              " 1.281604373002078  \n",
              " 1.3510478670188582 \n",
              " 1.0661870941031548 \n",
              " 1.0736735431584783 \n",
              " 0.5812487416214256 \n",
              " 0.3066193244795661 \n",
              " 0.36529984385710446\n",
              " 0.7490638357044848 "
            ]
          },
          "metadata": {
            "tags": []
          },
          "execution_count": 27
        }
      ]
    },
    {
      "cell_type": "code",
      "metadata": {
        "id": "czSaKe0VnhtS",
        "colab_type": "code",
        "colab": {}
      },
      "source": [
        "@cuda blocks = ceil(Int,N/(2^10)) threads = 2^10 parallel_array_add!(Device_a, Device_b, Device_result)"
      ],
      "execution_count": 0,
      "outputs": []
    },
    {
      "cell_type": "code",
      "metadata": {
        "id": "MxKt4EH5oAn4",
        "colab_type": "code",
        "colab": {
          "base_uri": "https://localhost:8080/",
          "height": 503
        },
        "outputId": "1c92c5ca-42f5-4026-f8e5-c8f249d7f96c"
      },
      "source": [
        "parallel_result = Array(Device_result)"
      ],
      "execution_count": 29,
      "outputs": [
        {
          "output_type": "execute_result",
          "data": {
            "text/plain": [
              "1048576-element Array{Float64,1}:\n",
              " 1.551014628332057  \n",
              " 0.8357149293529884 \n",
              " 0.9422275980542627 \n",
              " 0.252230130941983  \n",
              " 0.8221095977064417 \n",
              " 1.0175049548023267 \n",
              " 0.8450697011035475 \n",
              " 0.7336682673783679 \n",
              " 0.7036961407539621 \n",
              " 0.8723674468917757 \n",
              " 0.39851313281466383\n",
              " 0.3029388182289803 \n",
              " 1.0949325154452676 \n",
              " ⋮                  \n",
              " 1.3725077924315896 \n",
              " 1.5654275490990286 \n",
              " 0.3738082766468458 \n",
              " 0.5232438862044433 \n",
              " 1.281604373002078  \n",
              " 1.3510478670188582 \n",
              " 1.0661870941031548 \n",
              " 1.0736735431584783 \n",
              " 0.5812487416214256 \n",
              " 0.3066193244795661 \n",
              " 0.36529984385710446\n",
              " 0.7490638357044848 "
            ]
          },
          "metadata": {
            "tags": []
          },
          "execution_count": 29
        }
      ]
    },
    {
      "cell_type": "code",
      "metadata": {
        "id": "I3YmxC1XohnS",
        "colab_type": "code",
        "colab": {
          "base_uri": "https://localhost:8080/",
          "height": 35
        },
        "outputId": "7e474374-aad2-438f-9e2c-83c467415ab0"
      },
      "source": [
        "@test serial_result == parallel_result\n",
        "\n",
        "# testing the correctness"
      ],
      "execution_count": 30,
      "outputs": [
        {
          "output_type": "execute_result",
          "data": {
            "text/plain": [
              "\u001b[32m\u001b[1mTest Passed\u001b[22m\u001b[39m"
            ]
          },
          "metadata": {
            "tags": []
          },
          "execution_count": 30
        }
      ]
    },
    {
      "cell_type": "code",
      "metadata": {
        "id": "H43IYJT8qjh0",
        "colab_type": "code",
        "colab": {
          "base_uri": "https://localhost:8080/",
          "height": 215
        },
        "outputId": "b5d95e7d-78a6-4c72-d1d7-f052e1f4c1b3"
      },
      "source": [
        "@benchmark serial_array_add!(a,b,serial_result)"
      ],
      "execution_count": 31,
      "outputs": [
        {
          "output_type": "execute_result",
          "data": {
            "text/plain": [
              "BenchmarkTools.Trial: \n",
              "  memory estimate:  0 bytes\n",
              "  allocs estimate:  0\n",
              "  --------------\n",
              "  minimum time:     1.072 ms (0.00% GC)\n",
              "  median time:      1.159 ms (0.00% GC)\n",
              "  mean time:        1.176 ms (0.00% GC)\n",
              "  maximum time:     2.713 ms (0.00% GC)\n",
              "  --------------\n",
              "  samples:          4211\n",
              "  evals/sample:     1"
            ]
          },
          "metadata": {
            "tags": []
          },
          "execution_count": 31
        }
      ]
    },
    {
      "cell_type": "code",
      "metadata": {
        "id": "i9m-a9YLqovh",
        "colab_type": "code",
        "colab": {
          "base_uri": "https://localhost:8080/",
          "height": 215
        },
        "outputId": "6ba8a854-d898-41c0-f80b-2743402da532"
      },
      "source": [
        "@benchmark @cuda blocks = ceil(Int,N/(2^10)) threads = 2^10 parallel_array_add!(Device_a, Device_b, Device_result)"
      ],
      "execution_count": 32,
      "outputs": [
        {
          "output_type": "execute_result",
          "data": {
            "text/plain": [
              "BenchmarkTools.Trial: \n",
              "  memory estimate:  2.16 KiB\n",
              "  allocs estimate:  71\n",
              "  --------------\n",
              "  minimum time:     10.561 μs (0.00% GC)\n",
              "  median time:      98.638 μs (0.00% GC)\n",
              "  mean time:        88.017 μs (0.00% GC)\n",
              "  maximum time:     428.995 μs (0.00% GC)\n",
              "  --------------\n",
              "  samples:          10000\n",
              "  evals/sample:     1"
            ]
          },
          "metadata": {
            "tags": []
          },
          "execution_count": 32
        }
      ]
    },
    {
      "cell_type": "markdown",
      "metadata": {
        "id": "wRklXqsMsDMT",
        "colab_type": "text"
      },
      "source": [
        "### We see that the parallel code is about 100 times faster than serial one !!"
      ]
    }
  ]
}