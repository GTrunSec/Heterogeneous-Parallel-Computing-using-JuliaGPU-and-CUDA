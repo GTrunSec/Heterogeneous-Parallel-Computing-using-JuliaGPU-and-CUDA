{
  "nbformat": 4,
  "nbformat_minor": 0,
  "metadata": {
    "colab": {
      "name": "Array-addition.ipynb",
      "version": "0.3.2",
      "provenance": [],
      "collapsed_sections": []
    },
    "kernelspec": {
      "name": "julia-1.0",
      "display_name": "Julia 1.0"
    },
    "accelerator": "GPU"
  },
  "cells": [
    {
      "cell_type": "markdown",
      "metadata": {
        "id": "duzapYFOiRbS",
        "colab_type": "text"
      },
      "source": [
        "> # Array-Addition\n",
        "\n",
        "\n",
        "## Adding elements of two large arrays using Parallel code and then benchmarking it with the serial implementation of the same.\n"
      ]
    },
    {
      "cell_type": "code",
      "metadata": {
        "id": "s-AuL-nNVGPX",
        "colab_type": "code",
        "outputId": "637c424a-27e8-411e-d532-17a8bdae7d2d",
        "colab": {
          "base_uri": "https://localhost:8080/",
          "height": 503
        }
      },
      "source": [
        "using Pkg\n",
        "Pkg.add(\"CuArrays\")\n",
        "Pkg.add(\"CUDAnative\")\n",
        "Pkg.add(\"CUDAdrv\")\n",
        "Pkg.add(\"BenchmarkTools\")\n",
        "Pkg.add(\"Test\")"
      ],
      "execution_count": 1,
      "outputs": [
        {
          "output_type": "stream",
          "text": [
            "\u001b[32m\u001b[1m  Updating\u001b[22m\u001b[39m registry at `~/.julia/registries/General`\n",
            "\u001b[32m\u001b[1m  Updating\u001b[22m\u001b[39m git-repo `https://github.com/JuliaRegistries/General.git`\n",
            "\u001b[?25l\u001b[2K\u001b[?25h\u001b[32m\u001b[1m Resolving\u001b[22m\u001b[39m package versions...\n",
            "\u001b[32m\u001b[1m  Updating\u001b[22m\u001b[39m `~/.julia/environments/v1.0/Project.toml`\n",
            "\u001b[90m [no changes]\u001b[39m\n",
            "\u001b[32m\u001b[1m  Updating\u001b[22m\u001b[39m `~/.julia/environments/v1.0/Manifest.toml`\n",
            "\u001b[90m [no changes]\u001b[39m\n",
            "\u001b[32m\u001b[1m Resolving\u001b[22m\u001b[39m package versions...\n",
            "\u001b[32m\u001b[1m  Updating\u001b[22m\u001b[39m `~/.julia/environments/v1.0/Project.toml`\n",
            "\u001b[90m [no changes]\u001b[39m\n",
            "\u001b[32m\u001b[1m  Updating\u001b[22m\u001b[39m `~/.julia/environments/v1.0/Manifest.toml`\n",
            "\u001b[90m [no changes]\u001b[39m\n",
            "\u001b[32m\u001b[1m Resolving\u001b[22m\u001b[39m package versions...\n",
            "\u001b[32m\u001b[1m  Updating\u001b[22m\u001b[39m `~/.julia/environments/v1.0/Project.toml`\n",
            "\u001b[90m [no changes]\u001b[39m\n",
            "\u001b[32m\u001b[1m  Updating\u001b[22m\u001b[39m `~/.julia/environments/v1.0/Manifest.toml`\n",
            "\u001b[90m [no changes]\u001b[39m\n",
            "\u001b[32m\u001b[1m Resolving\u001b[22m\u001b[39m package versions...\n",
            "\u001b[32m\u001b[1m  Updating\u001b[22m\u001b[39m `~/.julia/environments/v1.0/Project.toml`\n",
            "\u001b[90m [no changes]\u001b[39m\n",
            "\u001b[32m\u001b[1m  Updating\u001b[22m\u001b[39m `~/.julia/environments/v1.0/Manifest.toml`\n",
            "\u001b[90m [no changes]\u001b[39m\n",
            "\u001b[32m\u001b[1m Resolving\u001b[22m\u001b[39m package versions...\n",
            "\u001b[32m\u001b[1m  Updating\u001b[22m\u001b[39m `~/.julia/environments/v1.0/Project.toml`\n",
            "\u001b[90m [no changes]\u001b[39m\n",
            "\u001b[32m\u001b[1m  Updating\u001b[22m\u001b[39m `~/.julia/environments/v1.0/Manifest.toml`\n",
            "\u001b[90m [no changes]\u001b[39m\n"
          ],
          "name": "stdout"
        }
      ]
    },
    {
      "cell_type": "code",
      "metadata": {
        "id": "Sd1IJW1BKHTh",
        "colab_type": "code",
        "colab": {}
      },
      "source": [
        "using CUDAnative, CUDAdrv, CuArrays, BenchmarkTools, Test"
      ],
      "execution_count": 0,
      "outputs": []
    },
    {
      "cell_type": "code",
      "metadata": {
        "id": "kFA36w4KjTzf",
        "colab_type": "code",
        "outputId": "58e51606-3887-4a8b-8d5c-533b1de01047",
        "colab": {
          "base_uri": "https://localhost:8080/",
          "height": 35
        }
      },
      "source": [
        "# Implementation using serial code\n",
        "\n",
        "function serial_array_add!(a,b,c)\n",
        "  c .= a .+ b\n",
        "end"
      ],
      "execution_count": 3,
      "outputs": [
        {
          "output_type": "execute_result",
          "data": {
            "text/plain": [
              "serial_array_add! (generic function with 1 method)"
            ]
          },
          "metadata": {
            "tags": []
          },
          "execution_count": 3
        }
      ]
    },
    {
      "cell_type": "code",
      "metadata": {
        "id": "nduZlGgkiFjE",
        "colab_type": "code",
        "outputId": "92c7bfe7-904a-4255-bf04-60b78b84a970",
        "colab": {
          "base_uri": "https://localhost:8080/",
          "height": 35
        }
      },
      "source": [
        "# Implementation using parallel CUDA Kernel\n",
        "\n",
        "function parallel_array_add!(a,b,c)\n",
        "\n",
        "  idx = (blockIdx().x-1) * blockDim().x + threadIdx().x\n",
        "  \n",
        " # Bounds check\n",
        "  if(idx <= size(c,1))\n",
        "    @inbounds c[idx] = a[idx] + b[idx]\n",
        "  end\n",
        "  \n",
        "  return nothing\n",
        "end"
      ],
      "execution_count": 4,
      "outputs": [
        {
          "output_type": "execute_result",
          "data": {
            "text/plain": [
              "parallel_array_add! (generic function with 1 method)"
            ]
          },
          "metadata": {
            "tags": []
          },
          "execution_count": 4
        }
      ]
    },
    {
      "cell_type": "code",
      "metadata": {
        "id": "aSLjBnoykupG",
        "colab_type": "code",
        "outputId": "692f52c0-729c-481c-a2d8-92fdfed2a106",
        "colab": {
          "base_uri": "https://localhost:8080/",
          "height": 503
        }
      },
      "source": [
        "N = 2^25\n",
        "a = rand(N)\n",
        "b = rand(N)\n",
        "serial_result = zeros(N)\n",
        "parallel_result = zeros(N) "
      ],
      "execution_count": 5,
      "outputs": [
        {
          "output_type": "execute_result",
          "data": {
            "text/plain": [
              "33554432-element Array{Float64,1}:\n",
              " 0.0\n",
              " 0.0\n",
              " 0.0\n",
              " 0.0\n",
              " 0.0\n",
              " 0.0\n",
              " 0.0\n",
              " 0.0\n",
              " 0.0\n",
              " 0.0\n",
              " 0.0\n",
              " 0.0\n",
              " 0.0\n",
              " ⋮  \n",
              " 0.0\n",
              " 0.0\n",
              " 0.0\n",
              " 0.0\n",
              " 0.0\n",
              " 0.0\n",
              " 0.0\n",
              " 0.0\n",
              " 0.0\n",
              " 0.0\n",
              " 0.0\n",
              " 0.0"
            ]
          },
          "metadata": {
            "tags": []
          },
          "execution_count": 5
        }
      ]
    },
    {
      "cell_type": "code",
      "metadata": {
        "id": "yaHpRw46mHoP",
        "colab_type": "code",
        "outputId": "abe63643-8021-47c2-a1a7-bfb3d1b62fbd",
        "colab": {
          "base_uri": "https://localhost:8080/",
          "height": 503
        }
      },
      "source": [
        "# Allocating memory on GPU(Device)\n",
        "\n",
        "Device_a=CuArray(a)\n",
        "Device_b=CuArray(b)\n",
        "Device_result=CuArray(parallel_result)"
      ],
      "execution_count": 6,
      "outputs": [
        {
          "output_type": "execute_result",
          "data": {
            "text/plain": [
              "33554432-element CuArray{Float64,1}:\n",
              " 0.0\n",
              " 0.0\n",
              " 0.0\n",
              " 0.0\n",
              " 0.0\n",
              " 0.0\n",
              " 0.0\n",
              " 0.0\n",
              " 0.0\n",
              " 0.0\n",
              " 0.0\n",
              " 0.0\n",
              " 0.0\n",
              " ⋮  \n",
              " 0.0\n",
              " 0.0\n",
              " 0.0\n",
              " 0.0\n",
              " 0.0\n",
              " 0.0\n",
              " 0.0\n",
              " 0.0\n",
              " 0.0\n",
              " 0.0\n",
              " 0.0\n",
              " 0.0"
            ]
          },
          "metadata": {
            "tags": []
          },
          "execution_count": 6
        }
      ]
    },
    {
      "cell_type": "code",
      "metadata": {
        "id": "FXaE2S3ZmJhr",
        "colab_type": "code",
        "outputId": "469b0225-594e-40d8-f640-2434ce340c9b",
        "colab": {
          "base_uri": "https://localhost:8080/",
          "height": 503
        }
      },
      "source": [
        "serial_array_add!(a,b,serial_result)"
      ],
      "execution_count": 7,
      "outputs": [
        {
          "output_type": "execute_result",
          "data": {
            "text/plain": [
              "33554432-element Array{Float64,1}:\n",
              " 1.2852465425047586 \n",
              " 0.3755673168736875 \n",
              " 0.18717506095642933\n",
              " 0.7066218968353946 \n",
              " 0.7368304034565436 \n",
              " 1.163561579127823  \n",
              " 0.3776027570740401 \n",
              " 1.1969300202021889 \n",
              " 0.4400306832346019 \n",
              " 0.8100256699268509 \n",
              " 1.3959901676998763 \n",
              " 0.9938515827570584 \n",
              " 0.9833503890972217 \n",
              " ⋮                  \n",
              " 0.8964199358422653 \n",
              " 0.49829921954337597\n",
              " 1.4946533595976714 \n",
              " 0.6800103417666483 \n",
              " 0.93163122967165   \n",
              " 0.4373980903153407 \n",
              " 1.6625721006271141 \n",
              " 0.7254116104231512 \n",
              " 0.874063312728165  \n",
              " 0.37349873490326635\n",
              " 1.0270753839484181 \n",
              " 1.69387225388001   "
            ]
          },
          "metadata": {
            "tags": []
          },
          "execution_count": 7
        }
      ]
    },
    {
      "cell_type": "code",
      "metadata": {
        "id": "czSaKe0VnhtS",
        "colab_type": "code",
        "colab": {
          "base_uri": "https://localhost:8080/",
          "height": 53
        },
        "outputId": "eea930a2-508f-42a0-fcbb-6c7d9cbb009e"
      },
      "source": [
        "@cuda blocks = ceil(Int,N/(2^10)) threads = 2^10 parallel_array_add!(Device_a, Device_b, Device_result)"
      ],
      "execution_count": 8,
      "outputs": [
        {
          "output_type": "stream",
          "text": [
            "┌ Info: Building the CUDAnative run-time library for your sm_37 device, this might take a while...\n",
            "└ @ CUDAnative /root/.julia/packages/CUDAnative/gJDZI/src/compiler/rtlib.jl:154\n"
          ],
          "name": "stderr"
        }
      ]
    },
    {
      "cell_type": "code",
      "metadata": {
        "id": "MxKt4EH5oAn4",
        "colab_type": "code",
        "outputId": "b81232fe-f0f7-4cf5-848d-0d34ed2beb59",
        "colab": {
          "base_uri": "https://localhost:8080/",
          "height": 503
        }
      },
      "source": [
        "parallel_result = Array(Device_result)"
      ],
      "execution_count": 9,
      "outputs": [
        {
          "output_type": "execute_result",
          "data": {
            "text/plain": [
              "33554432-element Array{Float64,1}:\n",
              " 1.2852465425047586 \n",
              " 0.3755673168736875 \n",
              " 0.18717506095642933\n",
              " 0.7066218968353946 \n",
              " 0.7368304034565436 \n",
              " 1.163561579127823  \n",
              " 0.3776027570740401 \n",
              " 1.1969300202021889 \n",
              " 0.4400306832346019 \n",
              " 0.8100256699268509 \n",
              " 1.3959901676998763 \n",
              " 0.9938515827570584 \n",
              " 0.9833503890972217 \n",
              " ⋮                  \n",
              " 0.8964199358422653 \n",
              " 0.49829921954337597\n",
              " 1.4946533595976714 \n",
              " 0.6800103417666483 \n",
              " 0.93163122967165   \n",
              " 0.4373980903153407 \n",
              " 1.6625721006271141 \n",
              " 0.7254116104231512 \n",
              " 0.874063312728165  \n",
              " 0.37349873490326635\n",
              " 1.0270753839484181 \n",
              " 1.69387225388001   "
            ]
          },
          "metadata": {
            "tags": []
          },
          "execution_count": 9
        }
      ]
    },
    {
      "cell_type": "code",
      "metadata": {
        "id": "I3YmxC1XohnS",
        "colab_type": "code",
        "outputId": "034771ae-aff0-4f5b-ee81-ade4bc4c1e37",
        "colab": {
          "base_uri": "https://localhost:8080/",
          "height": 35
        }
      },
      "source": [
        "# Testing the correctness\n",
        "\n",
        "@test serial_result == parallel_result"
      ],
      "execution_count": 10,
      "outputs": [
        {
          "output_type": "execute_result",
          "data": {
            "text/plain": [
              "\u001b[32m\u001b[1mTest Passed\u001b[22m\u001b[39m"
            ]
          },
          "metadata": {
            "tags": []
          },
          "execution_count": 10
        }
      ]
    },
    {
      "cell_type": "code",
      "metadata": {
        "id": "H43IYJT8qjh0",
        "colab_type": "code",
        "outputId": "0c2ce721-cb88-4560-bf28-03a5ad21de47",
        "colab": {
          "base_uri": "https://localhost:8080/",
          "height": 521
        }
      },
      "source": [
        "@btime serial_array_add!(a,b,serial_result)"
      ],
      "execution_count": 13,
      "outputs": [
        {
          "output_type": "stream",
          "text": [
            "  89.101 ms (0 allocations: 0 bytes)\n"
          ],
          "name": "stdout"
        },
        {
          "output_type": "execute_result",
          "data": {
            "text/plain": [
              "33554432-element Array{Float64,1}:\n",
              " 1.2852465425047586 \n",
              " 0.3755673168736875 \n",
              " 0.18717506095642933\n",
              " 0.7066218968353946 \n",
              " 0.7368304034565436 \n",
              " 1.163561579127823  \n",
              " 0.3776027570740401 \n",
              " 1.1969300202021889 \n",
              " 0.4400306832346019 \n",
              " 0.8100256699268509 \n",
              " 1.3959901676998763 \n",
              " 0.9938515827570584 \n",
              " 0.9833503890972217 \n",
              " ⋮                  \n",
              " 0.8964199358422653 \n",
              " 0.49829921954337597\n",
              " 1.4946533595976714 \n",
              " 0.6800103417666483 \n",
              " 0.93163122967165   \n",
              " 0.4373980903153407 \n",
              " 1.6625721006271141 \n",
              " 0.7254116104231512 \n",
              " 0.874063312728165  \n",
              " 0.37349873490326635\n",
              " 1.0270753839484181 \n",
              " 1.69387225388001   "
            ]
          },
          "metadata": {
            "tags": []
          },
          "execution_count": 13
        }
      ]
    },
    {
      "cell_type": "code",
      "metadata": {
        "id": "i9m-a9YLqovh",
        "colab_type": "code",
        "outputId": "e894fd47-9761-4eb3-c309-b2daa4e96157",
        "colab": {
          "base_uri": "https://localhost:8080/",
          "height": 35
        }
      },
      "source": [
        "@btime @cuda blocks = ceil(Int,N/(2^10)) threads = 2^10 parallel_array_add!(Device_a, Device_b, Device_result)"
      ],
      "execution_count": 14,
      "outputs": [
        {
          "output_type": "stream",
          "text": [
            "  14.153 μs (71 allocations: 2.16 KiB)\n"
          ],
          "name": "stdout"
        }
      ]
    },
    {
      "cell_type": "markdown",
      "metadata": {
        "id": "wRklXqsMsDMT",
        "colab_type": "text"
      },
      "source": [
        "### We see that the parallel code is about 1000 times faster than serial one !!"
      ]
    }
  ]
}