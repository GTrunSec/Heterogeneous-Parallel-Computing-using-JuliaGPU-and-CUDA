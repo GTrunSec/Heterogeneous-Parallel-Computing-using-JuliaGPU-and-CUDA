{
  "nbformat": 4,
  "nbformat_minor": 0,
  "metadata": {
    "colab": {
      "name": "Tiled-Matrix-Transpose.ipynb",
      "version": "0.3.2",
      "provenance": [],
      "collapsed_sections": []
    },
    "kernelspec": {
      "name": "julia-1.0",
      "display_name": "Julia 1.0"
    },
    "accelerator": "GPU"
  },
  "cells": [
    {
      "cell_type": "markdown",
      "metadata": {
        "id": "rqM5XsSif7kH",
        "colab_type": "text"
      },
      "source": [
        "# Transpose of a square matrix\n",
        "\n",
        "## Finding transpose of a square matrix using tiles\n"
      ]
    },
    {
      "cell_type": "code",
      "metadata": {
        "id": "l0NVeooLfTpT",
        "colab_type": "code",
        "outputId": "836b36c3-dfae-4c35-dd96-fcd6054e5b1e",
        "colab": {
          "base_uri": "https://localhost:8080/",
          "height": 521
        }
      },
      "source": [
        "using Pkg\n",
        "Pkg.add(\"CUDAnative\")\n",
        "Pkg.add(\"CuArrays\")\n",
        "Pkg.add(\"CUDAdrv\")\n",
        "Pkg.add(\"BenchmarkTools\")\n",
        "Pkg.add(\"Test\")"
      ],
      "execution_count": 1,
      "outputs": [
        {
          "output_type": "stream",
          "text": [
            "\u001b[32m\u001b[1m  Updating\u001b[22m\u001b[39m registry at `~/.julia/registries/General`\n",
            "\u001b[32m\u001b[1m  Updating\u001b[22m\u001b[39m git-repo `https://github.com/JuliaRegistries/General.git`\n",
            "\u001b[?25l\u001b[2K\u001b[?25h\u001b[32m\u001b[1m Resolving\u001b[22m\u001b[39m package versions...\n",
            "\u001b[32m\u001b[1m  Updating\u001b[22m\u001b[39m `~/.julia/environments/v1.0/Project.toml`\n",
            " \u001b[90m [be33ccc6]\u001b[39m\u001b[92m + CUDAnative v2.2.1\u001b[39m\n",
            "\u001b[32m\u001b[1m  Updating\u001b[22m\u001b[39m `~/.julia/environments/v1.0/Manifest.toml`\n",
            "\u001b[90m [no changes]\u001b[39m\n",
            "\u001b[32m\u001b[1m Resolving\u001b[22m\u001b[39m package versions...\n",
            "\u001b[32m\u001b[1m  Updating\u001b[22m\u001b[39m `~/.julia/environments/v1.0/Project.toml`\n",
            "\u001b[90m [no changes]\u001b[39m\n",
            "\u001b[32m\u001b[1m  Updating\u001b[22m\u001b[39m `~/.julia/environments/v1.0/Manifest.toml`\n",
            "\u001b[90m [no changes]\u001b[39m\n",
            "\u001b[32m\u001b[1m Resolving\u001b[22m\u001b[39m package versions...\n",
            "\u001b[32m\u001b[1m  Updating\u001b[22m\u001b[39m `~/.julia/environments/v1.0/Project.toml`\n",
            " \u001b[90m [c5f51814]\u001b[39m\u001b[92m + CUDAdrv v3.0.1\u001b[39m\n",
            "\u001b[32m\u001b[1m  Updating\u001b[22m\u001b[39m `~/.julia/environments/v1.0/Manifest.toml`\n",
            "\u001b[90m [no changes]\u001b[39m\n",
            "\u001b[32m\u001b[1m Resolving\u001b[22m\u001b[39m package versions...\n",
            "\u001b[32m\u001b[1m Installed\u001b[22m\u001b[39m BenchmarkTools ─ v0.4.2\n",
            "\u001b[32m\u001b[1m  Updating\u001b[22m\u001b[39m `~/.julia/environments/v1.0/Project.toml`\n",
            " \u001b[90m [6e4b80f9]\u001b[39m\u001b[92m + BenchmarkTools v0.4.2\u001b[39m\n",
            "\u001b[32m\u001b[1m  Updating\u001b[22m\u001b[39m `~/.julia/environments/v1.0/Manifest.toml`\n",
            " \u001b[90m [6e4b80f9]\u001b[39m\u001b[92m + BenchmarkTools v0.4.2\u001b[39m\n",
            "\u001b[32m\u001b[1m Resolving\u001b[22m\u001b[39m package versions...\n",
            "\u001b[32m\u001b[1m  Updating\u001b[22m\u001b[39m `~/.julia/environments/v1.0/Project.toml`\n",
            " \u001b[90m [8dfed614]\u001b[39m\u001b[92m + Test \u001b[39m\n",
            "\u001b[32m\u001b[1m  Updating\u001b[22m\u001b[39m `~/.julia/environments/v1.0/Manifest.toml`\n",
            "\u001b[90m [no changes]\u001b[39m\n"
          ],
          "name": "stdout"
        }
      ]
    },
    {
      "cell_type": "code",
      "metadata": {
        "id": "olouaQb-fYwW",
        "colab_type": "code",
        "colab": {}
      },
      "source": [
        "using CUDAnative,CuArrays,CUDAdrv,BenchmarkTools,Test"
      ],
      "execution_count": 0,
      "outputs": []
    },
    {
      "cell_type": "code",
      "metadata": {
        "id": "iUpMhkI6kewA",
        "colab_type": "code",
        "outputId": "e86885e3-e11c-4c80-8563-d199f26ba0bb",
        "colab": {
          "base_uri": "https://localhost:8080/",
          "height": 53
        }
      },
      "source": [
        "N = 1024\n",
        "input = rand(N,N)\n",
        "output = zeros(N,N)\n",
        "d_output = CuArray(output)\n",
        "d_input = CuArray(input)\n",
        "const tile = 16"
      ],
      "execution_count": 55,
      "outputs": [
        {
          "output_type": "stream",
          "text": [
            "WARNING: redefining constant tile\n"
          ],
          "name": "stderr"
        },
        {
          "output_type": "execute_result",
          "data": {
            "text/plain": [
              "16"
            ]
          },
          "metadata": {
            "tags": []
          },
          "execution_count": 55
        }
      ]
    },
    {
      "cell_type": "code",
      "metadata": {
        "id": "jMVFtSMe-TVt",
        "colab_type": "code",
        "outputId": "3af07766-1492-4479-a86d-206230b03763",
        "colab": {
          "base_uri": "https://localhost:8080/",
          "height": 35
        }
      },
      "source": [
        "# Kernel to find transpose of a square matrix using tiles\n",
        "\n",
        "function transpose_tile(d_input,d_output,N)\n",
        "  idx = (blockIdx().x - 1) * blockDim().x + threadIdx().x\n",
        "  idy = (blockIdx().y - 1) * blockDim().y + threadIdx().y\n",
        "  tidx = threadIdx().x\n",
        "  tidy = threadIdx().y\n",
        "  \n",
        "  # Bounds check \n",
        "  if(idx <= N && idy <= N)\n",
        "  \n",
        "  # Initial indices(or coordinates) of the start of a tile\n",
        "    initial_x = (blockIdx().x-1)*tile + 1\n",
        "    initial_y = (blockIdx().y-1)*tile + 1\n",
        "    \n",
        "  # Final indices(or coordinates) of the start of a tile (Inversion of initial indices) \n",
        "    final_x = (blockIdx().y-1)*tile + 1\n",
        "    final_y = (blockIdx().x-1)*tile + 1\n",
        "    \n",
        "  # Shared memory of size tile x tile  \n",
        "    shared_mem = @cuStaticSharedMem(Float64,(tile,tile))\n",
        "    \n",
        "  # Reading from global memory in coalesced fashion (followed column major) and and assignment to shared memory  \n",
        "    shared_mem[tidx,tidy] = d_input[initial_x + (tidx-1) + (initial_y + (tidy-1) - 1)*N]\n",
        "    sync_threads()\n",
        "  \n",
        "  # Inverting the indices(transpose) and assignment to ouput matrix in a coalesced fashion \n",
        "    d_output[final_x + (tidx-1) + (final_y + (tidy-1) - 1)*N] = shared_mem[tidy,tidx]\n",
        "    \n",
        "  end\n",
        "  \n",
        "  return \n",
        "end"
      ],
      "execution_count": 56,
      "outputs": [
        {
          "output_type": "execute_result",
          "data": {
            "text/plain": [
              "transpose_tile (generic function with 1 method)"
            ]
          },
          "metadata": {
            "tags": []
          },
          "execution_count": 56
        }
      ]
    },
    {
      "cell_type": "code",
      "metadata": {
        "id": "BrgYycwOkey_",
        "colab_type": "code",
        "colab": {}
      },
      "source": [
        "@cuda blocks = (Int(ceil(N/tile)),Int(ceil(N/tile))) threads = (tile,tile) transpose_tile(d_input,d_output,N)"
      ],
      "execution_count": 0,
      "outputs": []
    },
    {
      "cell_type": "code",
      "metadata": {
        "id": "E5LZ9hp6vcsp",
        "colab_type": "code",
        "colab": {
          "base_uri": "https://localhost:8080/",
          "height": 503
        },
        "outputId": "69dfbb06-5b47-4c56-85be-c45b3b0abbab"
      },
      "source": [
        "h_transpose_tile = Array(d_output)"
      ],
      "execution_count": 58,
      "outputs": [
        {
          "output_type": "execute_result",
          "data": {
            "text/plain": [
              "1024×1024 Array{Float64,2}:\n",
              " 0.874057   0.406268    0.363102  …  0.824866   0.991912  0.413938 \n",
              " 0.0039426  0.869256    0.876876     0.352321   0.156918  0.743621 \n",
              " 0.244711   0.428076    0.661831     0.726964   0.960881  0.694796 \n",
              " 0.183667   0.695668    0.727765     0.181746   0.817321  0.466737 \n",
              " 0.410631   0.791032    0.29206      0.381462   0.261083  0.32364  \n",
              " 0.969526   0.855034    0.636019  …  0.425742   0.405174  0.141035 \n",
              " 0.0396691  0.288112    0.334112     0.517133   0.346466  0.638165 \n",
              " 0.498094   0.360247    0.631732     0.186802   0.760271  0.509262 \n",
              " 0.300517   0.504865    0.28193      0.999294   0.934519  0.0082302\n",
              " 0.728512   0.551689    0.34382      0.811818   0.689145  0.923175 \n",
              " 0.391227   0.207524    0.789797  …  0.178633   0.347442  0.524699 \n",
              " 0.463078   0.404616    0.855898     0.112136   0.379221  0.9582   \n",
              " 0.713819   0.514439    0.446427     0.948149   0.675813  0.865258 \n",
              " ⋮                                ⋱                                \n",
              " 0.31569    0.479621    0.255127     0.0450656  0.624508  0.920073 \n",
              " 0.138244   0.148546    0.612414     0.776277   0.268036  0.69779  \n",
              " 0.242973   0.22061     0.466437     0.846209   0.111926  0.347128 \n",
              " 0.685199   0.00936596  0.106804  …  0.744328   0.784306  0.443597 \n",
              " 0.368797   0.889587    0.846245     0.310424   0.745188  0.989553 \n",
              " 0.93697    0.353878    0.590385     0.166068   0.866849  0.683005 \n",
              " 0.692938   0.438595    0.261336     0.213154   0.848892  0.485459 \n",
              " 0.228295   0.682964    0.411873     0.837477   0.969682  0.175049 \n",
              " 0.555927   0.248601    0.353289  …  0.0969331  0.787754  0.892502 \n",
              " 0.552251   0.724849    0.872153     0.823085   0.894666  0.805163 \n",
              " 0.433351   0.880858    0.514047     0.938911   0.814656  0.464387 \n",
              " 0.260689   0.298648    0.123613     0.532769   0.683096  0.294852 "
            ]
          },
          "metadata": {
            "tags": []
          },
          "execution_count": 58
        }
      ]
    },
    {
      "cell_type": "code",
      "metadata": {
        "id": "EirFZry7wFcf",
        "colab_type": "code",
        "colab": {}
      },
      "source": [
        "serial_output = zeros(N,N);"
      ],
      "execution_count": 0,
      "outputs": []
    },
    {
      "cell_type": "code",
      "metadata": {
        "id": "RZ1DOirLwFeb",
        "colab_type": "code",
        "colab": {
          "base_uri": "https://localhost:8080/",
          "height": 35
        },
        "outputId": "f366dfde-69c4-4edc-81f3-376740de49b1"
      },
      "source": [
        "# serial code for matrix transpose\n",
        "\n",
        "function serial_transpose(serial_output,input,N)\n",
        "  for i=1:N\n",
        "    for j=1:N\n",
        "      serial_output[i + (j-1)*N] = input[j + (i-1)*N]\n",
        "    end\n",
        "  end\n",
        "end"
      ],
      "execution_count": 60,
      "outputs": [
        {
          "output_type": "execute_result",
          "data": {
            "text/plain": [
              "serial_transpose (generic function with 1 method)"
            ]
          },
          "metadata": {
            "tags": []
          },
          "execution_count": 60
        }
      ]
    },
    {
      "cell_type": "code",
      "metadata": {
        "id": "wP4xRTy7wFgK",
        "colab_type": "code",
        "colab": {}
      },
      "source": [
        "serial_transpose(serial_output,input,N)"
      ],
      "execution_count": 0,
      "outputs": []
    },
    {
      "cell_type": "code",
      "metadata": {
        "id": "MrKmOPNByUY5",
        "colab_type": "code",
        "colab": {
          "base_uri": "https://localhost:8080/",
          "height": 35
        },
        "outputId": "fcb9ebf2-1f88-4212-ea50-3fbceda8dfac"
      },
      "source": [
        "@test serial_output == h_transpose_tile"
      ],
      "execution_count": 62,
      "outputs": [
        {
          "output_type": "execute_result",
          "data": {
            "text/plain": [
              "\u001b[32m\u001b[1mTest Passed\u001b[22m\u001b[39m"
            ]
          },
          "metadata": {
            "tags": []
          },
          "execution_count": 62
        }
      ]
    },
    {
      "cell_type": "code",
      "metadata": {
        "id": "J_irpuliyZPL",
        "colab_type": "code",
        "colab": {
          "base_uri": "https://localhost:8080/",
          "height": 215
        },
        "outputId": "5f86138d-4af0-42f3-9c93-763b8e943483"
      },
      "source": [
        "@benchmark @cuda blocks = (Int(ceil(N/tile)),Int(ceil(N/tile))) threads = (tile,tile) transpose_tile(d_input,d_output,N)"
      ],
      "execution_count": 70,
      "outputs": [
        {
          "output_type": "execute_result",
          "data": {
            "text/plain": [
              "BenchmarkTools.Trial: \n",
              "  memory estimate:  2.09 KiB\n",
              "  allocs estimate:  63\n",
              "  --------------\n",
              "  minimum time:     9.595 μs (0.00% GC)\n",
              "  median time:      766.312 μs (0.00% GC)\n",
              "  mean time:        700.809 μs (0.00% GC)\n",
              "  maximum time:     1.411 ms (0.00% GC)\n",
              "  --------------\n",
              "  samples:          7113\n",
              "  evals/sample:     1"
            ]
          },
          "metadata": {
            "tags": []
          },
          "execution_count": 70
        }
      ]
    },
    {
      "cell_type": "code",
      "metadata": {
        "id": "G4x1YkdfxsIx",
        "colab_type": "code",
        "colab": {
          "base_uri": "https://localhost:8080/",
          "height": 215
        },
        "outputId": "467f738c-1aff-4d1b-d2d2-684015029559"
      },
      "source": [
        "@benchmark serial_transpose(output,input,N)"
      ],
      "execution_count": 64,
      "outputs": [
        {
          "output_type": "execute_result",
          "data": {
            "text/plain": [
              "BenchmarkTools.Trial: \n",
              "  memory estimate:  0 bytes\n",
              "  allocs estimate:  0\n",
              "  --------------\n",
              "  minimum time:     4.868 ms (0.00% GC)\n",
              "  median time:      5.112 ms (0.00% GC)\n",
              "  mean time:        5.149 ms (0.00% GC)\n",
              "  maximum time:     9.752 ms (0.00% GC)\n",
              "  --------------\n",
              "  samples:          970\n",
              "  evals/sample:     1"
            ]
          },
          "metadata": {
            "tags": []
          },
          "execution_count": 64
        }
      ]
    },
    {
      "cell_type": "code",
      "metadata": {
        "id": "cRu2hA40x_Hd",
        "colab_type": "code",
        "colab": {
          "base_uri": "https://localhost:8080/",
          "height": 35
        },
        "outputId": "7564e9ac-7792-4a35-e933-16ca8bf06d24"
      },
      "source": [
        "@btime @cuda blocks = (Int(ceil(N/tile)),Int(ceil(N/tile))) threads = (tile,tile) transpose_tile(d_input,d_output,N)"
      ],
      "execution_count": 65,
      "outputs": [
        {
          "output_type": "stream",
          "text": [
            "  9.611 μs (63 allocations: 2.09 KiB)\n"
          ],
          "name": "stdout"
        }
      ]
    },
    {
      "cell_type": "code",
      "metadata": {
        "id": "WbIo23IGzohw",
        "colab_type": "code",
        "colab": {
          "base_uri": "https://localhost:8080/",
          "height": 35
        },
        "outputId": "3b28be85-b260-4eaf-b6e2-91c158a79631"
      },
      "source": [
        "@btime serial_transpose(output,input,N)"
      ],
      "execution_count": 66,
      "outputs": [
        {
          "output_type": "stream",
          "text": [
            "  4.870 ms (0 allocations: 0 bytes)\n"
          ],
          "name": "stdout"
        }
      ]
    },
    {
      "cell_type": "markdown",
      "metadata": {
        "id": "JJsVOxSJzImR",
        "colab_type": "text"
      },
      "source": [
        "## Launching a tile in shared memory and then using coalesced reads and writes in the matrix of about a million elements takes lesser time to compute the transpose "
      ]
    }
  ]
}