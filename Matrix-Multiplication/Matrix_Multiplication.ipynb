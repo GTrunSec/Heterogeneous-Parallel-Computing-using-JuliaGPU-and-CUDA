{
  "nbformat": 4,
  "nbformat_minor": 0,
  "metadata": {
    "colab": {
      "name": "Matrix-Multiplication.ipynb",
      "version": "0.3.2",
      "provenance": [],
      "collapsed_sections": []
    },
    "kernelspec": {
      "name": "julia-1.0",
      "display_name": "Julia 1.0"
    },
    "accelerator": "GPU"
  },
  "cells": [
    {
      "cell_type": "markdown",
      "metadata": {
        "id": "rqM5XsSif7kH",
        "colab_type": "text"
      },
      "source": [
        "# Matrix-Multiplication\n",
        "\n",
        "## Multiplying two large matrices using Parallel code and then benchmarking it with the serial implementation of the same.\n"
      ]
    },
    {
      "cell_type": "code",
      "metadata": {
        "id": "l0NVeooLfTpT",
        "colab_type": "code",
        "outputId": "fdeebb23-06db-49ec-c7bc-84b5f6d42548",
        "colab": {
          "base_uri": "https://localhost:8080/",
          "height": 503
        }
      },
      "source": [
        "using Pkg\n",
        "Pkg.add(\"CUDAnative\")\n",
        "Pkg.add(\"CuArrays\")\n",
        "Pkg.add(\"CUDAdrv\")\n",
        "Pkg.add(\"BenchmarkTools\")\n",
        "Pkg.add(\"Test\")"
      ],
      "execution_count": 1,
      "outputs": [
        {
          "output_type": "stream",
          "text": [
            "\u001b[32m\u001b[1m  Updating\u001b[22m\u001b[39m registry at `~/.julia/registries/General`\n",
            "\u001b[32m\u001b[1m  Updating\u001b[22m\u001b[39m git-repo `https://github.com/JuliaRegistries/General.git`\n",
            "\u001b[?25l\u001b[2K\u001b[?25h\u001b[32m\u001b[1m Resolving\u001b[22m\u001b[39m package versions...\n",
            "\u001b[32m\u001b[1m  Updating\u001b[22m\u001b[39m `~/.julia/environments/v1.0/Project.toml`\n",
            "\u001b[90m [no changes]\u001b[39m\n",
            "\u001b[32m\u001b[1m  Updating\u001b[22m\u001b[39m `~/.julia/environments/v1.0/Manifest.toml`\n",
            "\u001b[90m [no changes]\u001b[39m\n",
            "\u001b[32m\u001b[1m Resolving\u001b[22m\u001b[39m package versions...\n",
            "\u001b[32m\u001b[1m  Updating\u001b[22m\u001b[39m `~/.julia/environments/v1.0/Project.toml`\n",
            "\u001b[90m [no changes]\u001b[39m\n",
            "\u001b[32m\u001b[1m  Updating\u001b[22m\u001b[39m `~/.julia/environments/v1.0/Manifest.toml`\n",
            "\u001b[90m [no changes]\u001b[39m\n",
            "\u001b[32m\u001b[1m Resolving\u001b[22m\u001b[39m package versions...\n",
            "\u001b[32m\u001b[1m  Updating\u001b[22m\u001b[39m `~/.julia/environments/v1.0/Project.toml`\n",
            "\u001b[90m [no changes]\u001b[39m\n",
            "\u001b[32m\u001b[1m  Updating\u001b[22m\u001b[39m `~/.julia/environments/v1.0/Manifest.toml`\n",
            "\u001b[90m [no changes]\u001b[39m\n",
            "\u001b[32m\u001b[1m Resolving\u001b[22m\u001b[39m package versions...\n",
            "\u001b[32m\u001b[1m  Updating\u001b[22m\u001b[39m `~/.julia/environments/v1.0/Project.toml`\n",
            "\u001b[90m [no changes]\u001b[39m\n",
            "\u001b[32m\u001b[1m  Updating\u001b[22m\u001b[39m `~/.julia/environments/v1.0/Manifest.toml`\n",
            "\u001b[90m [no changes]\u001b[39m\n",
            "\u001b[32m\u001b[1m Resolving\u001b[22m\u001b[39m package versions...\n",
            "\u001b[32m\u001b[1m  Updating\u001b[22m\u001b[39m `~/.julia/environments/v1.0/Project.toml`\n",
            "\u001b[90m [no changes]\u001b[39m\n",
            "\u001b[32m\u001b[1m  Updating\u001b[22m\u001b[39m `~/.julia/environments/v1.0/Manifest.toml`\n",
            "\u001b[90m [no changes]\u001b[39m\n"
          ],
          "name": "stdout"
        }
      ]
    },
    {
      "cell_type": "code",
      "metadata": {
        "id": "olouaQb-fYwW",
        "colab_type": "code",
        "colab": {}
      },
      "source": [
        "using CUDAnative,CuArrays,CUDAdrv,BenchmarkTools,Test"
      ],
      "execution_count": 0,
      "outputs": []
    },
    {
      "cell_type": "code",
      "metadata": {
        "id": "JL12yaGhfaxF",
        "colab_type": "code",
        "outputId": "795b663a-aee6-47af-913e-55275ef2b5d9",
        "colab": {
          "base_uri": "https://localhost:8080/",
          "height": 503
        }
      },
      "source": [
        "N = 2^11\n",
        "a = rand(Float32,N,N)\n",
        "b = rand(Float32,N,N)\n",
        "parallel_result = zeros(Float32,N,N)"
      ],
      "execution_count": 4,
      "outputs": [
        {
          "output_type": "execute_result",
          "data": {
            "text/plain": [
              "2048×2048 Array{Float32,2}:\n",
              " 0.0  0.0  0.0  0.0  0.0  0.0  0.0  0.0  …  0.0  0.0  0.0  0.0  0.0  0.0  0.0\n",
              " 0.0  0.0  0.0  0.0  0.0  0.0  0.0  0.0     0.0  0.0  0.0  0.0  0.0  0.0  0.0\n",
              " 0.0  0.0  0.0  0.0  0.0  0.0  0.0  0.0     0.0  0.0  0.0  0.0  0.0  0.0  0.0\n",
              " 0.0  0.0  0.0  0.0  0.0  0.0  0.0  0.0     0.0  0.0  0.0  0.0  0.0  0.0  0.0\n",
              " 0.0  0.0  0.0  0.0  0.0  0.0  0.0  0.0     0.0  0.0  0.0  0.0  0.0  0.0  0.0\n",
              " 0.0  0.0  0.0  0.0  0.0  0.0  0.0  0.0  …  0.0  0.0  0.0  0.0  0.0  0.0  0.0\n",
              " 0.0  0.0  0.0  0.0  0.0  0.0  0.0  0.0     0.0  0.0  0.0  0.0  0.0  0.0  0.0\n",
              " 0.0  0.0  0.0  0.0  0.0  0.0  0.0  0.0     0.0  0.0  0.0  0.0  0.0  0.0  0.0\n",
              " 0.0  0.0  0.0  0.0  0.0  0.0  0.0  0.0     0.0  0.0  0.0  0.0  0.0  0.0  0.0\n",
              " 0.0  0.0  0.0  0.0  0.0  0.0  0.0  0.0     0.0  0.0  0.0  0.0  0.0  0.0  0.0\n",
              " 0.0  0.0  0.0  0.0  0.0  0.0  0.0  0.0  …  0.0  0.0  0.0  0.0  0.0  0.0  0.0\n",
              " 0.0  0.0  0.0  0.0  0.0  0.0  0.0  0.0     0.0  0.0  0.0  0.0  0.0  0.0  0.0\n",
              " 0.0  0.0  0.0  0.0  0.0  0.0  0.0  0.0     0.0  0.0  0.0  0.0  0.0  0.0  0.0\n",
              " ⋮                        ⋮              ⋱                      ⋮            \n",
              " 0.0  0.0  0.0  0.0  0.0  0.0  0.0  0.0     0.0  0.0  0.0  0.0  0.0  0.0  0.0\n",
              " 0.0  0.0  0.0  0.0  0.0  0.0  0.0  0.0     0.0  0.0  0.0  0.0  0.0  0.0  0.0\n",
              " 0.0  0.0  0.0  0.0  0.0  0.0  0.0  0.0     0.0  0.0  0.0  0.0  0.0  0.0  0.0\n",
              " 0.0  0.0  0.0  0.0  0.0  0.0  0.0  0.0     0.0  0.0  0.0  0.0  0.0  0.0  0.0\n",
              " 0.0  0.0  0.0  0.0  0.0  0.0  0.0  0.0  …  0.0  0.0  0.0  0.0  0.0  0.0  0.0\n",
              " 0.0  0.0  0.0  0.0  0.0  0.0  0.0  0.0     0.0  0.0  0.0  0.0  0.0  0.0  0.0\n",
              " 0.0  0.0  0.0  0.0  0.0  0.0  0.0  0.0     0.0  0.0  0.0  0.0  0.0  0.0  0.0\n",
              " 0.0  0.0  0.0  0.0  0.0  0.0  0.0  0.0     0.0  0.0  0.0  0.0  0.0  0.0  0.0\n",
              " 0.0  0.0  0.0  0.0  0.0  0.0  0.0  0.0     0.0  0.0  0.0  0.0  0.0  0.0  0.0\n",
              " 0.0  0.0  0.0  0.0  0.0  0.0  0.0  0.0  …  0.0  0.0  0.0  0.0  0.0  0.0  0.0\n",
              " 0.0  0.0  0.0  0.0  0.0  0.0  0.0  0.0     0.0  0.0  0.0  0.0  0.0  0.0  0.0\n",
              " 0.0  0.0  0.0  0.0  0.0  0.0  0.0  0.0     0.0  0.0  0.0  0.0  0.0  0.0  0.0"
            ]
          },
          "metadata": {
            "tags": []
          },
          "execution_count": 4
        }
      ]
    },
    {
      "cell_type": "code",
      "metadata": {
        "id": "V9ELLKtyfazB",
        "colab_type": "code",
        "outputId": "3a1035af-c143-4d9a-b7e3-f94093937cda",
        "colab": {
          "base_uri": "https://localhost:8080/",
          "height": 35
        }
      },
      "source": [
        "# Function to multiply two matrices using serial code\n",
        "\n",
        "function serial_mult(a,b,N)\n",
        "  c = zeros(N,N)\n",
        "  c = a*b\n",
        "  return c\n",
        "end"
      ],
      "execution_count": 5,
      "outputs": [
        {
          "output_type": "execute_result",
          "data": {
            "text/plain": [
              "serial_mult (generic function with 1 method)"
            ]
          },
          "metadata": {
            "tags": []
          },
          "execution_count": 5
        }
      ]
    },
    {
      "cell_type": "code",
      "metadata": {
        "id": "sxIX6TWKfa1a",
        "colab_type": "code",
        "outputId": "40e2b8c5-2ef9-4c23-c272-13f5608b035b",
        "colab": {
          "base_uri": "https://localhost:8080/",
          "height": 503
        }
      },
      "source": [
        "serial_result = serial_mult(a,b,N)"
      ],
      "execution_count": 6,
      "outputs": [
        {
          "output_type": "execute_result",
          "data": {
            "text/plain": [
              "2048×2048 Array{Float32,2}:\n",
              " 500.211  505.209  494.247  500.829  …  497.685  511.218  510.327  511.967\n",
              " 518.749  514.911  514.287  519.131     517.602  526.828  521.151  526.347\n",
              " 497.019  502.988  497.434  502.209     498.48   506.109  499.244  512.529\n",
              " 514.641  516.13   511.534  518.931     511.175  519.687  520.316  519.163\n",
              " 512.068  517.94   509.921  503.95      507.12   516.948  512.325  520.267\n",
              " 485.998  502.84   491.221  500.771  …  492.548  501.295  498.827  501.975\n",
              " 500.93   503.422  496.193  500.245     491.89   505.215  497.834  512.739\n",
              " 510.457  520.26   509.842  511.498     507.358  519.877  511.89   519.129\n",
              " 518.471  526.671  508.699  523.33      523.943  528.418  522.436  529.202\n",
              " 493.97   508.688  495.181  497.276     495.346  508.618  505.536  512.053\n",
              " 507.439  514.697  503.336  511.782  …  516.754  511.987  516.746  519.88 \n",
              " 493.011  500.946  498.185  502.382     502.943  514.524  503.264  509.855\n",
              " 494.976  510.644  498.355  505.626     503.671  501.076  499.159  512.691\n",
              "   ⋮                                 ⋱             ⋮                      \n",
              " 509.496  524.009  511.887  517.986     520.711  529.43   524.076  525.265\n",
              " 500.716  511.326  498.134  514.47      505.333  513.549  515.79   514.597\n",
              " 506.887  515.621  503.698  515.797     512.376  519.506  515.591  517.027\n",
              " 508.324  518.727  509.1    513.082     512.364  524.61   509.719  517.632\n",
              " 506.571  517.632  502.047  511.515  …  498.251  516.614  512.823  519.354\n",
              " 489.731  495.424  488.646  503.624     487.813  507.51   497.508  507.478\n",
              " 522.402  525.558  508.548  519.03      514.288  527.551  518.895  519.593\n",
              " 504.62   513.437  507.619  502.752     494.512  514.586  511.138  515.576\n",
              " 510.699  523.541  507.818  513.989     512.782  532.62   516.224  524.61 \n",
              " 504.468  519.378  510.729  515.465  …  509.402  523.758  509.907  523.985\n",
              " 494.677  502.489  504.016  504.324     498.522  518.279  510.333  505.29 \n",
              " 508.938  520.393  513.831  514.82      514.844  514.854  518.296  524.681"
            ]
          },
          "metadata": {
            "tags": []
          },
          "execution_count": 6
        }
      ]
    },
    {
      "cell_type": "code",
      "metadata": {
        "id": "UgJHBNbufa3w",
        "colab_type": "code",
        "colab": {
          "base_uri": "https://localhost:8080/",
          "height": 503
        },
        "outputId": "b776247a-a599-4716-ab8e-f95e26a86805"
      },
      "source": [
        "d_a = CuArray(a)\n",
        "d_b = CuArray(b)\n",
        "d_output = CuArray(parallel_result)"
      ],
      "execution_count": 7,
      "outputs": [
        {
          "output_type": "execute_result",
          "data": {
            "text/plain": [
              "2048×2048 CuArray{Float32,2}:\n",
              " 0.0  0.0  0.0  0.0  0.0  0.0  0.0  0.0  …  0.0  0.0  0.0  0.0  0.0  0.0  0.0\n",
              " 0.0  0.0  0.0  0.0  0.0  0.0  0.0  0.0     0.0  0.0  0.0  0.0  0.0  0.0  0.0\n",
              " 0.0  0.0  0.0  0.0  0.0  0.0  0.0  0.0     0.0  0.0  0.0  0.0  0.0  0.0  0.0\n",
              " 0.0  0.0  0.0  0.0  0.0  0.0  0.0  0.0     0.0  0.0  0.0  0.0  0.0  0.0  0.0\n",
              " 0.0  0.0  0.0  0.0  0.0  0.0  0.0  0.0     0.0  0.0  0.0  0.0  0.0  0.0  0.0\n",
              " 0.0  0.0  0.0  0.0  0.0  0.0  0.0  0.0  …  0.0  0.0  0.0  0.0  0.0  0.0  0.0\n",
              " 0.0  0.0  0.0  0.0  0.0  0.0  0.0  0.0     0.0  0.0  0.0  0.0  0.0  0.0  0.0\n",
              " 0.0  0.0  0.0  0.0  0.0  0.0  0.0  0.0     0.0  0.0  0.0  0.0  0.0  0.0  0.0\n",
              " 0.0  0.0  0.0  0.0  0.0  0.0  0.0  0.0     0.0  0.0  0.0  0.0  0.0  0.0  0.0\n",
              " 0.0  0.0  0.0  0.0  0.0  0.0  0.0  0.0     0.0  0.0  0.0  0.0  0.0  0.0  0.0\n",
              " 0.0  0.0  0.0  0.0  0.0  0.0  0.0  0.0  …  0.0  0.0  0.0  0.0  0.0  0.0  0.0\n",
              " 0.0  0.0  0.0  0.0  0.0  0.0  0.0  0.0     0.0  0.0  0.0  0.0  0.0  0.0  0.0\n",
              " 0.0  0.0  0.0  0.0  0.0  0.0  0.0  0.0     0.0  0.0  0.0  0.0  0.0  0.0  0.0\n",
              " ⋮                        ⋮              ⋱                      ⋮            \n",
              " 0.0  0.0  0.0  0.0  0.0  0.0  0.0  0.0     0.0  0.0  0.0  0.0  0.0  0.0  0.0\n",
              " 0.0  0.0  0.0  0.0  0.0  0.0  0.0  0.0     0.0  0.0  0.0  0.0  0.0  0.0  0.0\n",
              " 0.0  0.0  0.0  0.0  0.0  0.0  0.0  0.0     0.0  0.0  0.0  0.0  0.0  0.0  0.0\n",
              " 0.0  0.0  0.0  0.0  0.0  0.0  0.0  0.0     0.0  0.0  0.0  0.0  0.0  0.0  0.0\n",
              " 0.0  0.0  0.0  0.0  0.0  0.0  0.0  0.0  …  0.0  0.0  0.0  0.0  0.0  0.0  0.0\n",
              " 0.0  0.0  0.0  0.0  0.0  0.0  0.0  0.0     0.0  0.0  0.0  0.0  0.0  0.0  0.0\n",
              " 0.0  0.0  0.0  0.0  0.0  0.0  0.0  0.0     0.0  0.0  0.0  0.0  0.0  0.0  0.0\n",
              " 0.0  0.0  0.0  0.0  0.0  0.0  0.0  0.0     0.0  0.0  0.0  0.0  0.0  0.0  0.0\n",
              " 0.0  0.0  0.0  0.0  0.0  0.0  0.0  0.0     0.0  0.0  0.0  0.0  0.0  0.0  0.0\n",
              " 0.0  0.0  0.0  0.0  0.0  0.0  0.0  0.0  …  0.0  0.0  0.0  0.0  0.0  0.0  0.0\n",
              " 0.0  0.0  0.0  0.0  0.0  0.0  0.0  0.0     0.0  0.0  0.0  0.0  0.0  0.0  0.0\n",
              " 0.0  0.0  0.0  0.0  0.0  0.0  0.0  0.0     0.0  0.0  0.0  0.0  0.0  0.0  0.0"
            ]
          },
          "metadata": {
            "tags": []
          },
          "execution_count": 7
        }
      ]
    },
    {
      "cell_type": "code",
      "metadata": {
        "id": "CrNwsCxqfa5K",
        "colab_type": "code",
        "colab": {
          "base_uri": "https://localhost:8080/",
          "height": 35
        },
        "outputId": "d2887f21-805f-4414-fc92-afd05b3c93f5"
      },
      "source": [
        "# Function to multiply two matrices using serial code\n",
        "\n",
        "function parallel_mult(d_a,d_b,d_output,N)\n",
        "  idx = (blockIdx().x - 1) * blockDim().x + threadIdx().x \n",
        "  idy = (blockIdx().y - 1) * blockDim().y + threadIdx().y\n",
        "  if(idx <= N && idy <= N)\n",
        "  sum = 0\n",
        "  for i = 1:N\n",
        "    @inbounds sum = sum + d_a[idx,i] * d_b[i,idy]\n",
        "    end\n",
        "  @inbounds d_output[idx,idy] = sum\n",
        "  end\n",
        "return\n",
        "end"
      ],
      "execution_count": 8,
      "outputs": [
        {
          "output_type": "execute_result",
          "data": {
            "text/plain": [
              "parallel_mult (generic function with 1 method)"
            ]
          },
          "metadata": {
            "tags": []
          },
          "execution_count": 8
        }
      ]
    },
    {
      "cell_type": "code",
      "metadata": {
        "id": "O7tUPfRafrKV",
        "colab_type": "code",
        "colab": {}
      },
      "source": [
        "@cuda blocks = (Int(ceil(N/32)),Int(ceil(N/32))) threads = (32,32) parallel_mult(d_a,d_b,d_output,N)"
      ],
      "execution_count": 0,
      "outputs": []
    },
    {
      "cell_type": "code",
      "metadata": {
        "id": "eoAoSW_8frMJ",
        "colab_type": "code",
        "colab": {
          "base_uri": "https://localhost:8080/",
          "height": 503
        },
        "outputId": "f1753582-dd79-4710-b3ac-357dbae9831d"
      },
      "source": [
        "parallel_result = Array(d_output)"
      ],
      "execution_count": 10,
      "outputs": [
        {
          "output_type": "execute_result",
          "data": {
            "text/plain": [
              "2048×2048 Array{Float32,2}:\n",
              " 500.211  505.209  494.247  500.829  …  497.685  511.219  510.327  511.968\n",
              " 518.75   514.91   514.286  519.131     517.602  526.828  521.151  526.346\n",
              " 497.019  502.987  497.433  502.209     498.48   506.11   499.244  512.53 \n",
              " 514.641  516.13   511.533  518.931     511.176  519.687  520.316  519.163\n",
              " 512.068  517.94   509.921  503.95      507.119  516.949  512.324  520.267\n",
              " 485.999  502.84   491.221  500.771  …  492.548  501.295  498.827  501.975\n",
              " 500.929  503.421  496.193  500.245     491.89   505.216  497.835  512.739\n",
              " 510.457  520.259  509.842  511.498     507.358  519.876  511.89   519.129\n",
              " 518.47   526.671  508.699  523.33      523.943  528.418  522.436  529.202\n",
              " 493.97   508.688  495.181  497.276     495.346  508.618  505.535  512.053\n",
              " 507.439  514.698  503.336  511.782  …  516.755  511.987  516.746  519.88 \n",
              " 493.011  500.946  498.185  502.382     502.943  514.524  503.265  509.855\n",
              " 494.975  510.644  498.354  505.626     503.671  501.076  499.159  512.691\n",
              "   ⋮                                 ⋱             ⋮                      \n",
              " 509.496  524.009  511.887  517.986     520.711  529.43   524.076  525.264\n",
              " 500.716  511.326  498.134  514.47      505.332  513.549  515.79   514.597\n",
              " 506.887  515.621  503.698  515.797     512.376  519.505  515.591  517.027\n",
              " 508.324  518.726  509.1    513.082     512.363  524.609  509.719  517.632\n",
              " 506.571  517.632  502.047  511.515  …  498.252  516.614  512.823  519.354\n",
              " 489.731  495.424  488.646  503.624     487.812  507.51   497.508  507.478\n",
              " 522.402  525.558  508.548  519.03      514.289  527.552  518.895  519.593\n",
              " 504.62   513.437  507.618  502.752     494.512  514.586  511.138  515.576\n",
              " 510.7    523.54   507.818  513.99      512.782  532.62   516.225  524.61 \n",
              " 504.468  519.379  510.729  515.465  …  509.402  523.757  509.907  523.985\n",
              " 494.678  502.489  504.016  504.324     498.521  518.279  510.333  505.291\n",
              " 508.938  520.393  513.831  514.82      514.844  514.854  518.296  524.681"
            ]
          },
          "metadata": {
            "tags": []
          },
          "execution_count": 10
        }
      ]
    },
    {
      "cell_type": "code",
      "metadata": {
        "id": "FaNW0XwWfvMN",
        "colab_type": "code",
        "colab": {
          "base_uri": "https://localhost:8080/",
          "height": 35
        },
        "outputId": "aa76b33c-810c-469a-9da3-48bb97d0a07a"
      },
      "source": [
        "@test isapprox(parallel_result,serial_result)"
      ],
      "execution_count": 11,
      "outputs": [
        {
          "output_type": "execute_result",
          "data": {
            "text/plain": [
              "\u001b[32m\u001b[1mTest Passed\u001b[22m\u001b[39m"
            ]
          },
          "metadata": {
            "tags": []
          },
          "execution_count": 11
        }
      ]
    },
    {
      "cell_type": "code",
      "metadata": {
        "id": "K6bS8M3wfvOY",
        "colab_type": "code",
        "colab": {
          "base_uri": "https://localhost:8080/",
          "height": 521
        },
        "outputId": "6e022739-76fc-4bca-9250-7f12cab9c5d4"
      },
      "source": [
        "@btime serial_result = serial_mult(a,b,N)"
      ],
      "execution_count": 12,
      "outputs": [
        {
          "output_type": "stream",
          "text": [
            "  248.741 ms (4 allocations: 48.00 MiB)\n"
          ],
          "name": "stdout"
        },
        {
          "output_type": "execute_result",
          "data": {
            "text/plain": [
              "2048×2048 Array{Float32,2}:\n",
              " 500.211  505.209  494.247  500.829  …  497.685  511.218  510.327  511.967\n",
              " 518.749  514.911  514.287  519.131     517.602  526.828  521.151  526.347\n",
              " 497.019  502.988  497.434  502.209     498.48   506.109  499.244  512.529\n",
              " 514.641  516.13   511.534  518.931     511.175  519.687  520.316  519.163\n",
              " 512.068  517.94   509.921  503.95      507.12   516.948  512.325  520.267\n",
              " 485.998  502.84   491.221  500.771  …  492.548  501.295  498.827  501.975\n",
              " 500.93   503.422  496.193  500.245     491.89   505.215  497.834  512.739\n",
              " 510.457  520.26   509.842  511.498     507.358  519.877  511.89   519.129\n",
              " 518.471  526.671  508.699  523.33      523.943  528.418  522.436  529.202\n",
              " 493.97   508.688  495.181  497.276     495.346  508.618  505.536  512.053\n",
              " 507.439  514.697  503.336  511.782  …  516.754  511.987  516.746  519.88 \n",
              " 493.011  500.946  498.185  502.382     502.943  514.524  503.264  509.855\n",
              " 494.976  510.644  498.355  505.626     503.671  501.076  499.159  512.691\n",
              "   ⋮                                 ⋱             ⋮                      \n",
              " 509.496  524.009  511.887  517.986     520.711  529.43   524.076  525.265\n",
              " 500.716  511.326  498.134  514.47      505.333  513.549  515.79   514.597\n",
              " 506.887  515.621  503.698  515.797     512.376  519.506  515.591  517.027\n",
              " 508.324  518.727  509.1    513.082     512.364  524.61   509.719  517.632\n",
              " 506.571  517.632  502.047  511.515  …  498.251  516.614  512.823  519.354\n",
              " 489.731  495.424  488.646  503.624     487.813  507.51   497.508  507.478\n",
              " 522.402  525.558  508.548  519.03      514.288  527.551  518.895  519.593\n",
              " 504.62   513.437  507.619  502.752     494.512  514.586  511.138  515.576\n",
              " 510.699  523.541  507.818  513.989     512.782  532.62   516.224  524.61 \n",
              " 504.468  519.378  510.729  515.465  …  509.402  523.758  509.907  523.985\n",
              " 494.677  502.489  504.016  504.324     498.522  518.279  510.333  505.29 \n",
              " 508.938  520.393  513.831  514.82      514.844  514.854  518.296  524.681"
            ]
          },
          "metadata": {
            "tags": []
          },
          "execution_count": 12
        }
      ]
    },
    {
      "cell_type": "code",
      "metadata": {
        "id": "QhYAg5yhf2Xm",
        "colab_type": "code",
        "colab": {
          "base_uri": "https://localhost:8080/",
          "height": 35
        },
        "outputId": "02b4114d-661a-48e0-e29d-91af117fd9eb"
      },
      "source": [
        "@btime @cuda blocks = (Int(ceil(N/32)),Int(ceil(N/32))) threads = (32,32) parallel_mult(d_a,d_b,d_output,N)"
      ],
      "execution_count": 13,
      "outputs": [
        {
          "output_type": "stream",
          "text": [
            "  14.033 μs (71 allocations: 2.58 KiB)\n"
          ],
          "name": "stdout"
        }
      ]
    },
    {
      "cell_type": "markdown",
      "metadata": {
        "id": "iQec-qvdgTxa",
        "colab_type": "text"
      },
      "source": [
        "## The parallel code is about 10^4 times faster than the serial code"
      ]
    }
  ]
}