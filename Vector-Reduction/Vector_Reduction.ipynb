{
  "nbformat": 4,
  "nbformat_minor": 0,
  "metadata": {
    "colab": {
      "name": "Vector-Reduction.ipynb",
      "version": "0.3.2",
      "provenance": [],
      "collapsed_sections": []
    },
    "kernelspec": {
      "name": "julia-1.0",
      "display_name": "Julia 1.0"
    },
    "accelerator": "GPU"
  },
  "cells": [
    {
      "cell_type": "markdown",
      "metadata": {
        "id": "fmZ2f8UIoMrF",
        "colab_type": "text"
      },
      "source": [
        "# Vector-Reduction\n",
        "\n",
        "## Suming the elements of a large array (Vector-Reduction) using Parallel code and then benchmarking it with the serial implementation of the same.\n"
      ]
    },
    {
      "cell_type": "code",
      "metadata": {
        "id": "BGyMnFCVmONx",
        "colab_type": "code",
        "colab": {
          "base_uri": "https://localhost:8080/",
          "height": 593
        },
        "outputId": "f0052579-096b-4b91-f965-9f9441b44d63"
      },
      "source": [
        "using Pkg\n",
        "Pkg.add(\"CuArrays\")\n",
        "Pkg.add(\"CUDAnative\")\n",
        "Pkg.add(\"CUDAdrv\")\n",
        "Pkg.add(\"StaticArrays\")\n",
        "Pkg.add(\"BenchmarkTools\")\n",
        "Pkg.add(\"Test\")"
      ],
      "execution_count": 1,
      "outputs": [
        {
          "output_type": "stream",
          "text": [
            "\u001b[32m\u001b[1m  Updating\u001b[22m\u001b[39m registry at `~/.julia/registries/General`\n",
            "\u001b[32m\u001b[1m  Updating\u001b[22m\u001b[39m git-repo `https://github.com/JuliaRegistries/General.git`\n",
            "\u001b[?25l\u001b[2K\u001b[?25h\u001b[32m\u001b[1m Resolving\u001b[22m\u001b[39m package versions...\n",
            "\u001b[32m\u001b[1m  Updating\u001b[22m\u001b[39m `~/.julia/environments/v1.0/Project.toml`\n",
            "\u001b[90m [no changes]\u001b[39m\n",
            "\u001b[32m\u001b[1m  Updating\u001b[22m\u001b[39m `~/.julia/environments/v1.0/Manifest.toml`\n",
            "\u001b[90m [no changes]\u001b[39m\n",
            "\u001b[32m\u001b[1m Resolving\u001b[22m\u001b[39m package versions...\n",
            "\u001b[32m\u001b[1m  Updating\u001b[22m\u001b[39m `~/.julia/environments/v1.0/Project.toml`\n",
            "\u001b[90m [no changes]\u001b[39m\n",
            "\u001b[32m\u001b[1m  Updating\u001b[22m\u001b[39m `~/.julia/environments/v1.0/Manifest.toml`\n",
            "\u001b[90m [no changes]\u001b[39m\n",
            "\u001b[32m\u001b[1m Resolving\u001b[22m\u001b[39m package versions...\n",
            "\u001b[32m\u001b[1m  Updating\u001b[22m\u001b[39m `~/.julia/environments/v1.0/Project.toml`\n",
            "\u001b[90m [no changes]\u001b[39m\n",
            "\u001b[32m\u001b[1m  Updating\u001b[22m\u001b[39m `~/.julia/environments/v1.0/Manifest.toml`\n",
            "\u001b[90m [no changes]\u001b[39m\n",
            "\u001b[32m\u001b[1m Resolving\u001b[22m\u001b[39m package versions...\n",
            "\u001b[32m\u001b[1m  Updating\u001b[22m\u001b[39m `~/.julia/environments/v1.0/Project.toml`\n",
            "\u001b[90m [no changes]\u001b[39m\n",
            "\u001b[32m\u001b[1m  Updating\u001b[22m\u001b[39m `~/.julia/environments/v1.0/Manifest.toml`\n",
            "\u001b[90m [no changes]\u001b[39m\n",
            "\u001b[32m\u001b[1m Resolving\u001b[22m\u001b[39m package versions...\n",
            "\u001b[32m\u001b[1m  Updating\u001b[22m\u001b[39m `~/.julia/environments/v1.0/Project.toml`\n",
            "\u001b[90m [no changes]\u001b[39m\n",
            "\u001b[32m\u001b[1m  Updating\u001b[22m\u001b[39m `~/.julia/environments/v1.0/Manifest.toml`\n",
            "\u001b[90m [no changes]\u001b[39m\n",
            "\u001b[32m\u001b[1m Resolving\u001b[22m\u001b[39m package versions...\n",
            "\u001b[32m\u001b[1m  Updating\u001b[22m\u001b[39m `~/.julia/environments/v1.0/Project.toml`\n",
            "\u001b[90m [no changes]\u001b[39m\n",
            "\u001b[32m\u001b[1m  Updating\u001b[22m\u001b[39m `~/.julia/environments/v1.0/Manifest.toml`\n",
            "\u001b[90m [no changes]\u001b[39m\n"
          ],
          "name": "stdout"
        }
      ]
    },
    {
      "cell_type": "code",
      "metadata": {
        "id": "59K9Sq2dmUL9",
        "colab_type": "code",
        "colab": {}
      },
      "source": [
        "using CUDAnative, CUDAdrv, CuArrays, BenchmarkTools, Test, StaticArrays"
      ],
      "execution_count": 0,
      "outputs": []
    },
    {
      "cell_type": "code",
      "metadata": {
        "id": "jn8pACFKmWCj",
        "colab_type": "code",
        "colab": {
          "base_uri": "https://localhost:8080/",
          "height": 503
        },
        "outputId": "1be3c3e3-d127-42c2-936a-b44f7062c337"
      },
      "source": [
        "N = 2^25\n",
        "input = rand(N)\n",
        "d_input = CuArray(input)"
      ],
      "execution_count": 13,
      "outputs": [
        {
          "output_type": "execute_result",
          "data": {
            "text/plain": [
              "33554432-element CuArray{Float64,1}:\n",
              " 0.20179555986464415  \n",
              " 0.7891749987136487   \n",
              " 0.8745746116634037   \n",
              " 0.6387154833337982   \n",
              " 0.7094325891928888   \n",
              " 0.6651476378352903   \n",
              " 0.5240269186242899   \n",
              " 0.05225314432187744  \n",
              " 0.869396830878671    \n",
              " 0.7980381044072951   \n",
              " 0.0994140181768608   \n",
              " 0.2835369809184909   \n",
              " 0.1922957117608639   \n",
              " ⋮                    \n",
              " 0.6116356162029628   \n",
              " 0.9302335559257233   \n",
              " 0.0019453448190331901\n",
              " 0.9075648458773309   \n",
              " 0.6857375473919893   \n",
              " 0.819824563037012    \n",
              " 0.19390505895316879  \n",
              " 0.9417410349313302   \n",
              " 0.7410949640992879   \n",
              " 0.19843182837461826  \n",
              " 0.7893538574206285   \n",
              " 0.01771276881916739  "
            ]
          },
          "metadata": {
            "tags": []
          },
          "execution_count": 13
        }
      ]
    },
    {
      "cell_type": "code",
      "metadata": {
        "id": "kaeoUu6imakO",
        "colab_type": "code",
        "colab": {
          "base_uri": "https://localhost:8080/",
          "height": 35
        },
        "outputId": "5119b475-920e-4de4-c410-4fcda9755bcf"
      },
      "source": [
        "# Serial approach to sum the elements of an array/vector\n",
        "\n",
        "function serial_reduction(input)\n",
        "  sum = 0\n",
        "  for i=1:size(input,1)\n",
        "    sum += input[i]\n",
        "  end\n",
        "  return sum\n",
        "end"
      ],
      "execution_count": 14,
      "outputs": [
        {
          "output_type": "execute_result",
          "data": {
            "text/plain": [
              "serial_reduction (generic function with 1 method)"
            ]
          },
          "metadata": {
            "tags": []
          },
          "execution_count": 14
        }
      ]
    },
    {
      "cell_type": "code",
      "metadata": {
        "id": "7W5KBTwWmhsm",
        "colab_type": "code",
        "colab": {
          "base_uri": "https://localhost:8080/",
          "height": 35
        },
        "outputId": "8cfdba32-5347-4b77-9e55-8e453ff64fcd"
      },
      "source": [
        "# Parallel approach to sum the elements of an array/vector using Vector-Reduction \n",
        "\n",
        "function parallel_reduction(d_input)\n",
        "  idx = ((blockIdx().x-1) * blockDim().x) + threadIdx().x\n",
        "  \n",
        "  # Bounds check\n",
        "  if(idx <= size(d_input,1))\n",
        "    step = 1\n",
        "    \n",
        "    while step < blockDim().x\n",
        "    \n",
        "      if((idx % (step * 2) == 1) && (idx + step) <= size(d_input,1))\n",
        "        @inbounds d_input[idx] += d_input[idx + step]\n",
        "      end\n",
        "      \n",
        "      step *= 2\n",
        "      \n",
        "      sync_threads()\n",
        "    end\n",
        "    \n",
        "  # Atomically adding the first index in each block\n",
        "    if(threadIdx().x == 1 && idx != 1)\n",
        "      @inbounds @atomic d_input[1] += d_input[idx]\n",
        "    end\n",
        "    \n",
        "  end\n",
        "  \n",
        "return nothing\n",
        "end"
      ],
      "execution_count": 15,
      "outputs": [
        {
          "output_type": "execute_result",
          "data": {
            "text/plain": [
              "parallel_reduction (generic function with 1 method)"
            ]
          },
          "metadata": {
            "tags": []
          },
          "execution_count": 15
        }
      ]
    },
    {
      "cell_type": "code",
      "metadata": {
        "id": "SMaMtNVzmjsm",
        "colab_type": "code",
        "colab": {
          "base_uri": "https://localhost:8080/",
          "height": 35
        },
        "outputId": "90487cc0-8573-463d-a448-d8769e92a570"
      },
      "source": [
        "serial_sum = serial_reduction(input)"
      ],
      "execution_count": 16,
      "outputs": [
        {
          "output_type": "execute_result",
          "data": {
            "text/plain": [
              "1.6779476508068554e7"
            ]
          },
          "metadata": {
            "tags": []
          },
          "execution_count": 16
        }
      ]
    },
    {
      "cell_type": "code",
      "metadata": {
        "id": "Z2WznXoWmpG3",
        "colab_type": "code",
        "colab": {}
      },
      "source": [
        "@cuda blocks = ceil(Int,N/1024) threads = 1024 parallel_reduction(d_input)"
      ],
      "execution_count": 0,
      "outputs": []
    },
    {
      "cell_type": "code",
      "metadata": {
        "id": "8JvJPZQbmw3l",
        "colab_type": "code",
        "colab": {
          "base_uri": "https://localhost:8080/",
          "height": 503
        },
        "outputId": "5b7dd830-73a1-4625-b90d-1331385841b6"
      },
      "source": [
        "parallel_output = Array(d_input)"
      ],
      "execution_count": 18,
      "outputs": [
        {
          "output_type": "execute_result",
          "data": {
            "text/plain": [
              "33554432-element Array{Float64,1}:\n",
              " 1.677947650807114e7\n",
              " 0.7891749987136487 \n",
              " 1.513290094997202  \n",
              " 0.6387154833337982 \n",
              " 1.9508602899743464 \n",
              " 0.6651476378352903 \n",
              " 0.5762800629461673 \n",
              " 0.05225314432187744\n",
              " 3.3500900936221534 \n",
              " 0.7980381044072951 \n",
              " 0.3829509990953517 \n",
              " 0.2835369809184909 \n",
              " 1.2997041592408356 \n",
              " ⋮                  \n",
              " 2.45137936282505   \n",
              " 0.9302335559257233 \n",
              " 0.9095101906963641 \n",
              " 0.9075648458773309 \n",
              " 4.387801623027202  \n",
              " 0.819824563037012  \n",
              " 1.135646093884499  \n",
              " 0.9417410349313302 \n",
              " 1.746593418713702  \n",
              " 0.19843182837461826\n",
              " 0.8070666262397959 \n",
              " 0.01771276881916739"
            ]
          },
          "metadata": {
            "tags": []
          },
          "execution_count": 18
        }
      ]
    },
    {
      "cell_type": "code",
      "metadata": {
        "id": "ZvDTyxRam0KM",
        "colab_type": "code",
        "colab": {
          "base_uri": "https://localhost:8080/",
          "height": 35
        },
        "outputId": "89655ef4-5cec-41c5-c6ef-6737c8d65d79"
      },
      "source": [
        "@test isapprox(serial_sum,parallel_output[1])"
      ],
      "execution_count": 19,
      "outputs": [
        {
          "output_type": "execute_result",
          "data": {
            "text/plain": [
              "\u001b[32m\u001b[1mTest Passed\u001b[22m\u001b[39m"
            ]
          },
          "metadata": {
            "tags": []
          },
          "execution_count": 19
        }
      ]
    },
    {
      "cell_type": "code",
      "metadata": {
        "id": "pjFVjv4Pm3Q-",
        "colab_type": "code",
        "colab": {
          "base_uri": "https://localhost:8080/",
          "height": 215
        },
        "outputId": "d4e97bfb-54ef-49e8-f2a6-9843cd9f3592"
      },
      "source": [
        "@benchmark serial_reduction(input)"
      ],
      "execution_count": 20,
      "outputs": [
        {
          "output_type": "execute_result",
          "data": {
            "text/plain": [
              "BenchmarkTools.Trial: \n",
              "  memory estimate:  16 bytes\n",
              "  allocs estimate:  1\n",
              "  --------------\n",
              "  minimum time:     49.909 ms (0.00% GC)\n",
              "  median time:      53.176 ms (0.00% GC)\n",
              "  mean time:        53.475 ms (0.00% GC)\n",
              "  maximum time:     61.321 ms (0.00% GC)\n",
              "  --------------\n",
              "  samples:          94\n",
              "  evals/sample:     1"
            ]
          },
          "metadata": {
            "tags": []
          },
          "execution_count": 20
        }
      ]
    },
    {
      "cell_type": "code",
      "metadata": {
        "id": "566FavkcnGql",
        "colab_type": "code",
        "colab": {
          "base_uri": "https://localhost:8080/",
          "height": 215
        },
        "outputId": "2f1aa0fa-0901-418a-e261-b91e9bcfbcbb"
      },
      "source": [
        "@benchmark @cuda blocks = ceil(Int,N/1024) threads = 1024 parallel_reduction(d_input)"
      ],
      "execution_count": 21,
      "outputs": [
        {
          "output_type": "execute_result",
          "data": {
            "text/plain": [
              "BenchmarkTools.Trial: \n",
              "  memory estimate:  1008 bytes\n",
              "  allocs estimate:  40\n",
              "  --------------\n",
              "  minimum time:     8.763 μs (0.00% GC)\n",
              "  median time:      7.058 ms (0.00% GC)\n",
              "  mean time:        6.499 ms (0.00% GC)\n",
              "  maximum time:     7.295 ms (0.00% GC)\n",
              "  --------------\n",
              "  samples:          770\n",
              "  evals/sample:     1"
            ]
          },
          "metadata": {
            "tags": []
          },
          "execution_count": 21
        }
      ]
    },
    {
      "cell_type": "code",
      "metadata": {
        "id": "CFLyw3mbnoYa",
        "colab_type": "code",
        "colab": {
          "base_uri": "https://localhost:8080/",
          "height": 233
        },
        "outputId": "5d2af2c6-e506-48b8-8089-e32dff283e62"
      },
      "source": [
        "@btime @benchmark serial_reduction(input)"
      ],
      "execution_count": 23,
      "outputs": [
        {
          "output_type": "stream",
          "text": [
            "  11.703 s (341712 allocations: 17.31 MiB)\n"
          ],
          "name": "stdout"
        },
        {
          "output_type": "execute_result",
          "data": {
            "text/plain": [
              "BenchmarkTools.Trial: \n",
              "  memory estimate:  16 bytes\n",
              "  allocs estimate:  1\n",
              "  --------------\n",
              "  minimum time:     50.313 ms (0.00% GC)\n",
              "  median time:      53.207 ms (0.00% GC)\n",
              "  mean time:        53.489 ms (0.00% GC)\n",
              "  maximum time:     60.401 ms (0.00% GC)\n",
              "  --------------\n",
              "  samples:          94\n",
              "  evals/sample:     1"
            ]
          },
          "metadata": {
            "tags": []
          },
          "execution_count": 23
        }
      ]
    },
    {
      "cell_type": "code",
      "metadata": {
        "id": "McE_lN7dnqKN",
        "colab_type": "code",
        "colab": {
          "base_uri": "https://localhost:8080/",
          "height": 35
        },
        "outputId": "c3a1d9f0-e74b-4cb9-8d9e-8eaae0f25a8e"
      },
      "source": [
        "@btime @cuda blocks = ceil(Int,N/1024) threads = 1024 parallel_reduction(d_input)"
      ],
      "execution_count": 24,
      "outputs": [
        {
          "output_type": "stream",
          "text": [
            "  8.845 μs (40 allocations: 1008 bytes)\n"
          ],
          "name": "stdout"
        }
      ]
    },
    {
      "cell_type": "markdown",
      "metadata": {
        "id": "vLm1jMgYn8Mk",
        "colab_type": "text"
      },
      "source": [
        "## The parallel code is about 10^6 times faster than the serial code"
      ]
    }
  ]
}