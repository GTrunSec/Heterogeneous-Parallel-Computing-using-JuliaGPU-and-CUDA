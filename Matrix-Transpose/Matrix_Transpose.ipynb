{
  "nbformat": 4,
  "nbformat_minor": 0,
  "metadata": {
    "colab": {
      "name": "Matrix-Transpose.ipynb",
      "version": "0.3.2",
      "provenance": [],
      "collapsed_sections": []
    },
    "kernelspec": {
      "name": "julia-1.0",
      "display_name": "Julia 1.0"
    },
    "accelerator": "GPU"
  },
  "cells": [
    {
      "cell_type": "markdown",
      "metadata": {
        "id": "rqM5XsSif7kH",
        "colab_type": "text"
      },
      "source": [
        "# Transpose of a square matrix\n",
        "\n",
        "## Finding transpose of a square matrix without using temporary matrix\n"
      ]
    },
    {
      "cell_type": "code",
      "metadata": {
        "id": "l0NVeooLfTpT",
        "colab_type": "code",
        "outputId": "43c18914-587d-4c9b-e21d-286889bc81c1",
        "colab": {
          "base_uri": "https://localhost:8080/",
          "height": 503
        }
      },
      "source": [
        "using Pkg\n",
        "Pkg.add(\"CUDAnative\")\n",
        "Pkg.add(\"CuArrays\")\n",
        "Pkg.add(\"CUDAdrv\")\n",
        "Pkg.add(\"BenchmarkTools\")\n",
        "Pkg.add(\"Test\")"
      ],
      "execution_count": 1,
      "outputs": [
        {
          "output_type": "stream",
          "text": [
            "\u001b[32m\u001b[1m  Updating\u001b[22m\u001b[39m registry at `~/.julia/registries/General`\n",
            "\u001b[32m\u001b[1m  Updating\u001b[22m\u001b[39m git-repo `https://github.com/JuliaRegistries/General.git`\n",
            "\u001b[?25l\u001b[2K\u001b[?25h\u001b[32m\u001b[1m Resolving\u001b[22m\u001b[39m package versions...\n",
            "\u001b[32m\u001b[1m  Updating\u001b[22m\u001b[39m `~/.julia/environments/v1.0/Project.toml`\n",
            "\u001b[90m [no changes]\u001b[39m\n",
            "\u001b[32m\u001b[1m  Updating\u001b[22m\u001b[39m `~/.julia/environments/v1.0/Manifest.toml`\n",
            "\u001b[90m [no changes]\u001b[39m\n",
            "\u001b[32m\u001b[1m Resolving\u001b[22m\u001b[39m package versions...\n",
            "\u001b[32m\u001b[1m  Updating\u001b[22m\u001b[39m `~/.julia/environments/v1.0/Project.toml`\n",
            "\u001b[90m [no changes]\u001b[39m\n",
            "\u001b[32m\u001b[1m  Updating\u001b[22m\u001b[39m `~/.julia/environments/v1.0/Manifest.toml`\n",
            "\u001b[90m [no changes]\u001b[39m\n",
            "\u001b[32m\u001b[1m Resolving\u001b[22m\u001b[39m package versions...\n",
            "\u001b[32m\u001b[1m  Updating\u001b[22m\u001b[39m `~/.julia/environments/v1.0/Project.toml`\n",
            "\u001b[90m [no changes]\u001b[39m\n",
            "\u001b[32m\u001b[1m  Updating\u001b[22m\u001b[39m `~/.julia/environments/v1.0/Manifest.toml`\n",
            "\u001b[90m [no changes]\u001b[39m\n",
            "\u001b[32m\u001b[1m Resolving\u001b[22m\u001b[39m package versions...\n",
            "\u001b[32m\u001b[1m  Updating\u001b[22m\u001b[39m `~/.julia/environments/v1.0/Project.toml`\n",
            "\u001b[90m [no changes]\u001b[39m\n",
            "\u001b[32m\u001b[1m  Updating\u001b[22m\u001b[39m `~/.julia/environments/v1.0/Manifest.toml`\n",
            "\u001b[90m [no changes]\u001b[39m\n",
            "\u001b[32m\u001b[1m Resolving\u001b[22m\u001b[39m package versions...\n",
            "\u001b[32m\u001b[1m  Updating\u001b[22m\u001b[39m `~/.julia/environments/v1.0/Project.toml`\n",
            "\u001b[90m [no changes]\u001b[39m\n",
            "\u001b[32m\u001b[1m  Updating\u001b[22m\u001b[39m `~/.julia/environments/v1.0/Manifest.toml`\n",
            "\u001b[90m [no changes]\u001b[39m\n"
          ],
          "name": "stdout"
        }
      ]
    },
    {
      "cell_type": "code",
      "metadata": {
        "id": "olouaQb-fYwW",
        "colab_type": "code",
        "colab": {}
      },
      "source": [
        "using CUDAnative,CuArrays,CUDAdrv,BenchmarkTools,Test"
      ],
      "execution_count": 0,
      "outputs": []
    },
    {
      "cell_type": "code",
      "metadata": {
        "id": "9mZH5oizkcoG",
        "colab_type": "code",
        "colab": {
          "base_uri": "https://localhost:8080/",
          "height": 35
        },
        "outputId": "6dd6e666-826d-4f0d-9393-b2af0d77a661"
      },
      "source": [
        "# Kernel to find transpose of a square matrix without using a temporary matrix\n",
        "\n",
        "function transpose(d_input,N)\n",
        "  idx = (blockIdx().x - 1) * blockDim().x + threadIdx().x\n",
        "  idy = (blockIdx().y - 1) * blockDim().y + threadIdx().y\n",
        "  \n",
        "  # Bounds check \n",
        "  if(idx <= N && idy <= N && idx <= idy)\n",
        "    temp = d_input[idx,idy]\n",
        "    d_input[idx,idy] = d_input[idy,idx]\n",
        "    d_input[idy,idx] = temp\n",
        "  end\n",
        "  \n",
        "  return \n",
        "end"
      ],
      "execution_count": 10,
      "outputs": [
        {
          "output_type": "execute_result",
          "data": {
            "text/plain": [
              "transpose (generic function with 1 method)"
            ]
          },
          "metadata": {
            "tags": []
          },
          "execution_count": 10
        }
      ]
    },
    {
      "cell_type": "code",
      "metadata": {
        "id": "iUpMhkI6kewA",
        "colab_type": "code",
        "colab": {
          "base_uri": "https://localhost:8080/",
          "height": 503
        },
        "outputId": "b27b21c2-6553-41f7-e3c2-4393cf3fb63a"
      },
      "source": [
        "N = 100\n",
        "input = rand(N,N)\n",
        "d_input=CuArray(input)"
      ],
      "execution_count": 20,
      "outputs": [
        {
          "output_type": "execute_result",
          "data": {
            "text/plain": [
              "100×100 CuArray{Float64,2}:\n",
              " 0.89954   0.826267    0.850579   …  0.0920916   0.256064   0.0727674\n",
              " 0.501696  0.238456    0.720401      0.583565    0.390627   0.777108 \n",
              " 0.167341  0.106352    0.0643141     0.172838    0.0535584  0.83691  \n",
              " 0.7532    0.643455    0.102143      0.224618    0.370367   0.0678088\n",
              " 0.367258  0.388475    0.0599876     0.917886    0.735512   0.32929  \n",
              " 0.674111  0.701897    0.853748   …  0.574248    0.278316   0.660032 \n",
              " 0.563485  0.0219543   0.768478      0.487299    0.96116    0.38714  \n",
              " 0.690795  0.422564    0.443492      0.872972    0.318923   0.309138 \n",
              " 0.726602  0.359488    0.0594943     0.901943    0.117709   0.531734 \n",
              " 0.484494  0.685469    0.243665      0.356876    0.702318   0.7574   \n",
              " 0.477603  0.979003    0.0852392  …  0.839141    0.915725   0.902608 \n",
              " 0.32882   0.757064    0.751324      0.861519    0.238029   0.495303 \n",
              " 0.340889  0.26378     0.852717      0.219082    0.225412   0.319702 \n",
              " ⋮                                ⋱                                  \n",
              " 0.320749  0.0468875   0.02539       0.460103    0.157711   0.313038 \n",
              " 0.813662  0.0298079   0.212926      0.596616    0.824237   0.728054 \n",
              " 0.307844  0.633257    0.987891   …  0.00456541  0.415471   0.244362 \n",
              " 0.497457  0.550633    0.953785      0.728945    0.554523   0.372613 \n",
              " 0.323452  0.00585192  0.590872      0.718998    0.498747   0.992242 \n",
              " 0.499114  0.498755    0.721138      0.296359    0.842013   0.217321 \n",
              " 0.578283  0.0501244   0.0363846     0.575874    0.138252   0.879537 \n",
              " 0.314537  0.447151    0.162235   …  0.953569    0.352995   0.876076 \n",
              " 0.52499   0.15774     0.69632       0.67673     0.641651   0.175085 \n",
              " 0.445026  0.731318    0.892249      0.405846    0.109614   0.4649   \n",
              " 0.238674  0.606609    0.668119      0.388915    0.593203   0.358668 \n",
              " 0.288225  0.170745    0.389698      0.737712    0.29439    0.166598 "
            ]
          },
          "metadata": {
            "tags": []
          },
          "execution_count": 20
        }
      ]
    },
    {
      "cell_type": "code",
      "metadata": {
        "id": "BrgYycwOkey_",
        "colab_type": "code",
        "colab": {}
      },
      "source": [
        "@cuda blocks = (Int(ceil(N/32)),Int(ceil(N/32))) threads = (32,32) transpose(d_input,N)"
      ],
      "execution_count": 0,
      "outputs": []
    },
    {
      "cell_type": "code",
      "metadata": {
        "id": "sHz0Wdmbke0J",
        "colab_type": "code",
        "colab": {
          "base_uri": "https://localhost:8080/",
          "height": 503
        },
        "outputId": "78de3f22-89da-41ed-b16b-a7ff315b245e"
      },
      "source": [
        "h_transpose = Array(d_input)"
      ],
      "execution_count": 22,
      "outputs": [
        {
          "output_type": "execute_result",
          "data": {
            "text/plain": [
              "100×100 Array{Float64,2}:\n",
              " 0.89954    0.501696   0.167341   …  0.445026   0.238674   0.288225 \n",
              " 0.826267   0.238456   0.106352      0.731318   0.606609   0.170745 \n",
              " 0.850579   0.720401   0.0643141     0.892249   0.668119   0.389698 \n",
              " 0.963517   0.269649   0.966543      0.955812   0.758791   0.153148 \n",
              " 0.914383   0.322874   0.0288655     0.0957935  0.0615485  0.910167 \n",
              " 0.710737   0.164619   0.905933   …  0.0783295  0.728924   0.0336899\n",
              " 0.303035   0.989227   0.238421      0.391319   0.295386   0.0308027\n",
              " 0.465971   0.731124   0.838485      0.0579519  0.0943504  0.500582 \n",
              " 0.815473   0.486341   0.738487      0.209123   0.591715   0.474267 \n",
              " 0.331847   0.746804   0.591898      0.0853216  0.690571   0.437122 \n",
              " 0.407394   0.58238    0.793981   …  0.965301   0.0410526  0.219273 \n",
              " 0.0869291  0.860252   0.588181      0.579509   0.701476   0.303427 \n",
              " 0.704117   0.798396   0.048976      0.762153   0.301744   0.936781 \n",
              " ⋮                                ⋱                                 \n",
              " 0.728055   0.128365   0.11378       0.129489   0.503135   0.784771 \n",
              " 0.118644   0.192521   0.959035      0.367072   0.176398   0.140229 \n",
              " 0.182186   0.640171   0.148265   …  0.412738   0.428028   0.905164 \n",
              " 0.350321   0.15031    0.0691351     0.0581209  0.906337   0.637206 \n",
              " 0.384476   0.0753384  0.431717      0.377675   0.688068   0.956307 \n",
              " 0.750605   0.478493   0.613672      0.978325   0.69231    0.904391 \n",
              " 0.519844   0.529133   0.406628      0.212368   0.451768   0.309322 \n",
              " 0.978033   0.357286   0.171333   …  0.914864   0.961988   0.0149865\n",
              " 0.204773   0.649      0.513186      0.656136   0.69026    0.687224 \n",
              " 0.0920916  0.583565   0.172838      0.405846   0.388915   0.737712 \n",
              " 0.256064   0.390627   0.0535584     0.109614   0.593203   0.29439  \n",
              " 0.0727674  0.777108   0.83691       0.4649     0.358668   0.166598 "
            ]
          },
          "metadata": {
            "tags": []
          },
          "execution_count": 22
        }
      ]
    }
  ]
}