{
  "nbformat": 4,
  "nbformat_minor": 0,
  "metadata": {
    "colab": {
      "name": "Radix-Sort.ipynb",
      "version": "0.3.2",
      "provenance": [],
      "collapsed_sections": []
    },
    "kernelspec": {
      "name": "julia-1.0",
      "display_name": "Julia 1.0"
    },
    "accelerator": "GPU"
  },
  "cells": [
    {
      "cell_type": "code",
      "metadata": {
        "id": "ubyLWrWQrb7p",
        "colab_type": "code",
        "outputId": "05807a4a-5015-4f37-e81b-3dd6f0c7228a",
        "colab": {
          "base_uri": "https://localhost:8080/",
          "height": 611
        }
      },
      "source": [
        "using Pkg\n",
        "Pkg.add(\"CuArrays\")\n",
        "Pkg.add(\"CUDAnative\")\n",
        "Pkg.add(\"CUDAdrv\")\n",
        "Pkg.add(\"StaticArrays\")\n",
        "Pkg.add(\"BenchmarkTools\")\n",
        "Pkg.add(\"Test\")"
      ],
      "execution_count": 1,
      "outputs": [
        {
          "output_type": "stream",
          "text": [
            "\u001b[32m\u001b[1m  Updating\u001b[22m\u001b[39m registry at `~/.julia/registries/General`\n",
            "\u001b[32m\u001b[1m  Updating\u001b[22m\u001b[39m git-repo `https://github.com/JuliaRegistries/General.git`\n",
            "\u001b[?25l\u001b[2K\u001b[?25h\u001b[32m\u001b[1m Resolving\u001b[22m\u001b[39m package versions...\n",
            "\u001b[32m\u001b[1m  Updating\u001b[22m\u001b[39m `~/.julia/environments/v1.0/Project.toml`\n",
            "\u001b[90m [no changes]\u001b[39m\n",
            "\u001b[32m\u001b[1m  Updating\u001b[22m\u001b[39m `~/.julia/environments/v1.0/Manifest.toml`\n",
            "\u001b[90m [no changes]\u001b[39m\n",
            "\u001b[32m\u001b[1m Resolving\u001b[22m\u001b[39m package versions...\n",
            "\u001b[32m\u001b[1m  Updating\u001b[22m\u001b[39m `~/.julia/environments/v1.0/Project.toml`\n",
            " \u001b[90m [be33ccc6]\u001b[39m\u001b[92m + CUDAnative v2.2.1\u001b[39m\n",
            "\u001b[32m\u001b[1m  Updating\u001b[22m\u001b[39m `~/.julia/environments/v1.0/Manifest.toml`\n",
            "\u001b[90m [no changes]\u001b[39m\n",
            "\u001b[32m\u001b[1m Resolving\u001b[22m\u001b[39m package versions...\n",
            "\u001b[32m\u001b[1m  Updating\u001b[22m\u001b[39m `~/.julia/environments/v1.0/Project.toml`\n",
            " \u001b[90m [c5f51814]\u001b[39m\u001b[92m + CUDAdrv v3.0.1\u001b[39m\n",
            "\u001b[32m\u001b[1m  Updating\u001b[22m\u001b[39m `~/.julia/environments/v1.0/Manifest.toml`\n",
            "\u001b[90m [no changes]\u001b[39m\n",
            "\u001b[32m\u001b[1m Resolving\u001b[22m\u001b[39m package versions...\n",
            "\u001b[32m\u001b[1m  Updating\u001b[22m\u001b[39m `~/.julia/environments/v1.0/Project.toml`\n",
            " \u001b[90m [90137ffa]\u001b[39m\u001b[92m + StaticArrays v0.11.0\u001b[39m\n",
            "\u001b[32m\u001b[1m  Updating\u001b[22m\u001b[39m `~/.julia/environments/v1.0/Manifest.toml`\n",
            "\u001b[90m [no changes]\u001b[39m\n",
            "\u001b[32m\u001b[1m Resolving\u001b[22m\u001b[39m package versions...\n",
            "\u001b[32m\u001b[1m Installed\u001b[22m\u001b[39m BenchmarkTools ─ v0.4.2\n",
            "\u001b[32m\u001b[1m  Updating\u001b[22m\u001b[39m `~/.julia/environments/v1.0/Project.toml`\n",
            " \u001b[90m [6e4b80f9]\u001b[39m\u001b[92m + BenchmarkTools v0.4.2\u001b[39m\n",
            "\u001b[32m\u001b[1m  Updating\u001b[22m\u001b[39m `~/.julia/environments/v1.0/Manifest.toml`\n",
            " \u001b[90m [6e4b80f9]\u001b[39m\u001b[92m + BenchmarkTools v0.4.2\u001b[39m\n",
            "\u001b[32m\u001b[1m Resolving\u001b[22m\u001b[39m package versions...\n",
            "\u001b[32m\u001b[1m  Updating\u001b[22m\u001b[39m `~/.julia/environments/v1.0/Project.toml`\n",
            " \u001b[90m [8dfed614]\u001b[39m\u001b[92m + Test \u001b[39m\n",
            "\u001b[32m\u001b[1m  Updating\u001b[22m\u001b[39m `~/.julia/environments/v1.0/Manifest.toml`\n",
            "\u001b[90m [no changes]\u001b[39m\n"
          ],
          "name": "stdout"
        }
      ]
    },
    {
      "cell_type": "code",
      "metadata": {
        "id": "7jPu1AFv9Y10",
        "colab_type": "code",
        "colab": {}
      },
      "source": [
        "using CUDAnative, CUDAdrv, CuArrays, StaticArrays, BenchmarkTools, Test"
      ],
      "execution_count": 0,
      "outputs": []
    },
    {
      "cell_type": "code",
      "metadata": {
        "id": "Bvu1x-i-z3ta",
        "colab_type": "code",
        "outputId": "223532a4-4414-4048-8875-69074f433ab5",
        "colab": {
          "base_uri": "https://localhost:8080/",
          "height": 35
        }
      },
      "source": [
        "# Kernel to find maximum element in array\n",
        "\n",
        "function find_max(d_input)\n",
        "  idx = (blockIdx().x - 1) * blockDim().x + threadIdx().x\n",
        "  \n",
        "  if(idx <= size(d_input,1))\n",
        "    step = 1\n",
        "    while step < blockDim().x\n",
        "      if(idx % (step*2) ==1 && idx + step <= size(d_input,1))\n",
        "        @inbounds d_input[idx] = max(d_input[idx],d_input[idx + step])\n",
        "      end\n",
        "      step *= 2\n",
        "      sync_threads\n",
        "    end\n",
        "    if(threadIdx()==1 && idx!=1)\n",
        "      @inbounds @atomic d_input[1] = max(d_input[1],d_input[idx])\n",
        "    end\n",
        "  end\n",
        "  \n",
        "  return\n",
        "end"
      ],
      "execution_count": 2,
      "outputs": [
        {
          "output_type": "execute_result",
          "data": {
            "text/plain": [
              "find_max (generic function with 1 method)"
            ]
          },
          "metadata": {
            "tags": []
          },
          "execution_count": 2
        }
      ]
    },
    {
      "cell_type": "code",
      "metadata": {
        "id": "_Qi3TPM6OJsH",
        "colab_type": "code",
        "outputId": "510606a1-d66d-491e-ca55-d2cd15f0925e",
        "colab": {
          "base_uri": "https://localhost:8080/",
          "height": 53
        }
      },
      "source": [
        "input1 = rand(1:100,2^6)\n",
        "d_input1 = CuArray(input1)\n",
        "input2 = input1\n",
        "d_input2 = CuArray(input2)\n",
        "const N = size(input1,1)"
      ],
      "execution_count": 68,
      "outputs": [
        {
          "output_type": "stream",
          "text": [
            "WARNING: redefining constant N\n"
          ],
          "name": "stderr"
        },
        {
          "output_type": "execute_result",
          "data": {
            "text/plain": [
              "64"
            ]
          },
          "metadata": {
            "tags": []
          },
          "execution_count": 68
        }
      ]
    },
    {
      "cell_type": "code",
      "metadata": {
        "id": "KtJoNAigOgXR",
        "colab_type": "code",
        "outputId": "97571ed7-8c18-4dfb-9c51-0c88d92e17f1",
        "colab": {
          "base_uri": "https://localhost:8080/",
          "height": 503
        }
      },
      "source": [
        "@cuda threads = N find_max(d_input1)\n",
        "d_max = Array(d_input1)[1]\n",
        "d_temp1 = CuArray(zeros(Int,N))\n",
        "d_temp2 = CuArray(zeros(Int,N))\n",
        "d_ans = CuArray(zeros(Int,N))"
      ],
      "execution_count": 69,
      "outputs": [
        {
          "output_type": "execute_result",
          "data": {
            "text/plain": [
              "64-element CuArray{Int64,1}:\n",
              " 0\n",
              " 0\n",
              " 0\n",
              " 0\n",
              " 0\n",
              " 0\n",
              " 0\n",
              " 0\n",
              " 0\n",
              " 0\n",
              " 0\n",
              " 0\n",
              " 0\n",
              " ⋮\n",
              " 0\n",
              " 0\n",
              " 0\n",
              " 0\n",
              " 0\n",
              " 0\n",
              " 0\n",
              " 0\n",
              " 0\n",
              " 0\n",
              " 0\n",
              " 0"
            ]
          },
          "metadata": {
            "tags": []
          },
          "execution_count": 69
        }
      ]
    },
    {
      "cell_type": "code",
      "metadata": {
        "id": "6b4nKMfwE9y9",
        "colab_type": "code",
        "outputId": "008b799d-5f4d-46db-ffe3-de68766ecf09",
        "colab": {
          "base_uri": "https://localhost:8080/",
          "height": 35
        }
      },
      "source": [
        "# Radix sort kernel\n",
        "\n",
        "function radix_sort(d_input2,d_max,d_temp1,d_temp2,d_ans)\n",
        "  idx = (blockIdx().x - 1) * blockDim().x + threadIdx().x \n",
        "  \n",
        "  if(idx <= N)\n",
        "    step = 1\n",
        "    while step <= d_max\n",
        "        \n",
        "      if(d_input2[idx] & step == step)\n",
        "        d_temp2[idx] = 1\n",
        "        d_temp1[idx] = 0\n",
        "      else\n",
        "        d_temp1[idx] = 1\n",
        "        d_temp2[idx] = 0\n",
        "      end\n",
        "      \n",
        "      flag = 0 \n",
        "      if(d_temp1[idx] == 1)\n",
        "        flag = 1\n",
        "      end\n",
        "      sync_threads()\n",
        "      \n",
        "      #### Scan on d_temp1 and d_temp2 ####\n",
        "      Step = 1\n",
        "      while Step < N\n",
        "        temp1 = d_temp1[idx]\n",
        "        temp2 = d_temp2[idx]\n",
        "        \n",
        "        if(idx + Step <= N)\n",
        "          temp1 += d_temp1[idx + Step]\n",
        "          temp2 += d_temp2[idx + Step]\n",
        "          d_temp1[idx + Step] = temp1\n",
        "          d_temp2[idx + Step] = temp2\n",
        "        end\n",
        "                \n",
        "        sync_threads()\n",
        "        Step *= 2\n",
        "      end\n",
        "      ######################################\n",
        "      \n",
        "      if(flag == 1)\n",
        "        d_ans[d_temp1[idx]] = d_input2[idx]\n",
        "      else\n",
        "        d_ans[d_temp2[idx] + d_temp1[N]] = d_input2[idx]\n",
        "      end\n",
        "      \n",
        "      d_input2[idx] = d_ans[idx]      \n",
        "      step *= 2\n",
        "      sync_threads()\n",
        "    end\n",
        "  end\n",
        "  return\n",
        "end"
      ],
      "execution_count": 70,
      "outputs": [
        {
          "output_type": "execute_result",
          "data": {
            "text/plain": [
              "radix_sort (generic function with 1 method)"
            ]
          },
          "metadata": {
            "tags": []
          },
          "execution_count": 70
        }
      ]
    },
    {
      "cell_type": "code",
      "metadata": {
        "id": "Ur9zaj82OIm6",
        "colab_type": "code",
        "colab": {}
      },
      "source": [
        "@cuda threads = N radix_sort(d_input2,d_max,d_temp1,d_temp2,d_ans)"
      ],
      "execution_count": 0,
      "outputs": []
    },
    {
      "cell_type": "code",
      "metadata": {
        "id": "VDpz01h-PpYX",
        "colab_type": "code",
        "outputId": "f6f34d68-cf13-41a1-9883-5e06ae413a9d",
        "colab": {
          "base_uri": "https://localhost:8080/",
          "height": 35
        }
      },
      "source": [
        "@test isapprox(Array(d_input2),sort(input1))"
      ],
      "execution_count": 72,
      "outputs": [
        {
          "output_type": "execute_result",
          "data": {
            "text/plain": [
              "\u001b[32m\u001b[1mTest Passed\u001b[22m\u001b[39m"
            ]
          },
          "metadata": {
            "tags": []
          },
          "execution_count": 72
        }
      ]
    },
    {
      "cell_type": "code",
      "metadata": {
        "id": "ZmU9rNxfRJwS",
        "colab_type": "code",
        "colab": {
          "base_uri": "https://localhost:8080/",
          "height": 35
        },
        "outputId": "e36bb862-8a9b-4002-abf9-09124fd1dbbf"
      },
      "source": [
        "@btime @cuda threads = N radix_sort(d_input2,d_max,d_temp1,d_temp2,d_ans)"
      ],
      "execution_count": 73,
      "outputs": [
        {
          "output_type": "stream",
          "text": [
            "  10.509 μs (65 allocations: 2.27 KiB)\n"
          ],
          "name": "stdout"
        }
      ]
    }
  ]
}