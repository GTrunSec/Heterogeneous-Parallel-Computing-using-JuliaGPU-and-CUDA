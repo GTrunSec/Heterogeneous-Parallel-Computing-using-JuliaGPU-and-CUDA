{
  "nbformat": 4,
  "nbformat_minor": 0,
  "metadata": {
    "colab": {
      "name": "Brick-Sort.ipynb",
      "version": "0.3.2",
      "provenance": [],
      "collapsed_sections": []
    },
    "kernelspec": {
      "name": "julia-1.0",
      "display_name": "Julia 1.0"
    },
    "accelerator": "GPU"
  },
  "cells": [
    {
      "cell_type": "markdown",
      "metadata": {
        "id": "pIx9ZN6o6bB0",
        "colab_type": "text"
      },
      "source": [
        "# Brick-Sort\n",
        "\n",
        "## To implement sorting on a large array by parallel version of Bubble sort algorithm(Brick sort) and benchmarking it with traditional serial version"
      ]
    },
    {
      "cell_type": "code",
      "metadata": {
        "id": "ubyLWrWQrb7p",
        "colab_type": "code",
        "outputId": "f454a4a9-b8bd-4820-d0b6-1d9d37eeeb5b",
        "colab": {
          "base_uri": "https://localhost:8080/",
          "height": 611
        }
      },
      "source": [
        "using Pkg\n",
        "Pkg.add(\"CuArrays\")\n",
        "Pkg.add(\"CUDAnative\")\n",
        "Pkg.add(\"CUDAdrv\")\n",
        "Pkg.add(\"StaticArrays\")\n",
        "Pkg.add(\"BenchmarkTools\")\n",
        "Pkg.add(\"Test\")"
      ],
      "execution_count": 2,
      "outputs": [
        {
          "output_type": "stream",
          "text": [
            "\u001b[32m\u001b[1m  Updating\u001b[22m\u001b[39m registry at `~/.julia/registries/General`\n",
            "\u001b[32m\u001b[1m  Updating\u001b[22m\u001b[39m git-repo `https://github.com/JuliaRegistries/General.git`\n",
            "\u001b[2K\u001b[?25h\u001b[32m\u001b[1m Resolving\u001b[22m\u001b[39m package versions...\n",
            "\u001b[32m\u001b[1m  Updating\u001b[22m\u001b[39m `~/.julia/environments/v1.0/Project.toml`\n",
            "\u001b[90m [no changes]\u001b[39m\n",
            "\u001b[32m\u001b[1m  Updating\u001b[22m\u001b[39m `~/.julia/environments/v1.0/Manifest.toml`\n",
            "\u001b[90m [no changes]\u001b[39m\n",
            "\u001b[32m\u001b[1m Resolving\u001b[22m\u001b[39m package versions...\n",
            "\u001b[32m\u001b[1m  Updating\u001b[22m\u001b[39m `~/.julia/environments/v1.0/Project.toml`\n",
            " \u001b[90m [be33ccc6]\u001b[39m\u001b[92m + CUDAnative v2.2.0\u001b[39m\n",
            "\u001b[32m\u001b[1m  Updating\u001b[22m\u001b[39m `~/.julia/environments/v1.0/Manifest.toml`\n",
            "\u001b[90m [no changes]\u001b[39m\n",
            "\u001b[32m\u001b[1m Resolving\u001b[22m\u001b[39m package versions...\n",
            "\u001b[32m\u001b[1m  Updating\u001b[22m\u001b[39m `~/.julia/environments/v1.0/Project.toml`\n",
            " \u001b[90m [c5f51814]\u001b[39m\u001b[92m + CUDAdrv v3.0.1\u001b[39m\n",
            "\u001b[32m\u001b[1m  Updating\u001b[22m\u001b[39m `~/.julia/environments/v1.0/Manifest.toml`\n",
            "\u001b[90m [no changes]\u001b[39m\n",
            "\u001b[32m\u001b[1m Resolving\u001b[22m\u001b[39m package versions...\n",
            "\u001b[32m\u001b[1m  Updating\u001b[22m\u001b[39m `~/.julia/environments/v1.0/Project.toml`\n",
            " \u001b[90m [90137ffa]\u001b[39m\u001b[92m + StaticArrays v0.11.0\u001b[39m\n",
            "\u001b[32m\u001b[1m  Updating\u001b[22m\u001b[39m `~/.julia/environments/v1.0/Manifest.toml`\n",
            "\u001b[90m [no changes]\u001b[39m\n",
            "\u001b[32m\u001b[1m Resolving\u001b[22m\u001b[39m package versions...\n",
            "\u001b[32m\u001b[1m Installed\u001b[22m\u001b[39m BenchmarkTools ─ v0.4.2\n",
            "\u001b[32m\u001b[1m  Updating\u001b[22m\u001b[39m `~/.julia/environments/v1.0/Project.toml`\n",
            " \u001b[90m [6e4b80f9]\u001b[39m\u001b[92m + BenchmarkTools v0.4.2\u001b[39m\n",
            "\u001b[32m\u001b[1m  Updating\u001b[22m\u001b[39m `~/.julia/environments/v1.0/Manifest.toml`\n",
            " \u001b[90m [6e4b80f9]\u001b[39m\u001b[92m + BenchmarkTools v0.4.2\u001b[39m\n",
            "\u001b[32m\u001b[1m Resolving\u001b[22m\u001b[39m package versions...\n",
            "\u001b[32m\u001b[1m  Updating\u001b[22m\u001b[39m `~/.julia/environments/v1.0/Project.toml`\n",
            " \u001b[90m [8dfed614]\u001b[39m\u001b[92m + Test \u001b[39m\n",
            "\u001b[32m\u001b[1m  Updating\u001b[22m\u001b[39m `~/.julia/environments/v1.0/Manifest.toml`\n",
            "\u001b[90m [no changes]\u001b[39m\n"
          ],
          "name": "stdout"
        }
      ]
    },
    {
      "cell_type": "code",
      "metadata": {
        "id": "7jPu1AFv9Y10",
        "colab_type": "code",
        "colab": {}
      },
      "source": [
        "using CUDAnative, CUDAdrv, CuArrays, StaticArrays, BenchmarkTools, Test"
      ],
      "execution_count": 0,
      "outputs": []
    },
    {
      "cell_type": "code",
      "metadata": {
        "id": "geTp8eed2XCd",
        "colab_type": "code",
        "colab": {
          "base_uri": "https://localhost:8080/",
          "height": 35
        },
        "outputId": "201e2acf-9f6e-4832-f797-82f2aad179b7"
      },
      "source": [
        "function Bubble_sort!(h_in)\n",
        "  \n",
        "  for i=1:size(h_in,1)\n",
        "    for j=i:size(h_in,1)\n",
        "      if(h_in[i] > h_in[j])\n",
        "        temp = h_in[i]\n",
        "        h_in[i] = h_in[j]\n",
        "        h_in[j] = temp\n",
        "      end\n",
        "    end\n",
        "  end\n",
        "  \n",
        "end"
      ],
      "execution_count": 3,
      "outputs": [
        {
          "output_type": "execute_result",
          "data": {
            "text/plain": [
              "Bubble_sort! (generic function with 1 method)"
            ]
          },
          "metadata": {
            "tags": []
          },
          "execution_count": 3
        }
      ]
    },
    {
      "cell_type": "code",
      "metadata": {
        "id": "WemAskNbllc_",
        "colab_type": "code",
        "colab": {
          "base_uri": "https://localhost:8080/",
          "height": 35
        },
        "outputId": "0643f749-9d15-4ba5-ca45-555e9fc3270e"
      },
      "source": [
        "function Brick_sort!(d_in)\n",
        "\n",
        "  idx = (blockIdx().x - 1) * blockDim().x + threadIdx().x\n",
        "  \n",
        "  if(idx <= div(size(d_in,1),2))\n",
        "    \n",
        "    right = 2*idx+1\n",
        "    mid = 2*idx\n",
        "    left = 2*idx-1\n",
        "    \n",
        "    for i=1:size(d_in,1)\n",
        "      if(i%2==0)\n",
        "        if(d_in[left] > d_in[mid])\n",
        "          temp = d_in[left]\n",
        "          d_in[left] = d_in[mid]\n",
        "          d_in[mid] = temp\n",
        "        end\n",
        "      \n",
        "      else\n",
        "        if(right <= size(d_in,1) && d_in[mid] > d_in[right])\n",
        "          temp = d_in[right]\n",
        "          d_in[right] = d_in[mid]\n",
        "          d_in[mid] = temp\n",
        "        end\n",
        "      end\n",
        "      \n",
        "      sync_threads()\n",
        "    end\n",
        "  end\n",
        "\n",
        "return \n",
        "end"
      ],
      "execution_count": 4,
      "outputs": [
        {
          "output_type": "execute_result",
          "data": {
            "text/plain": [
              "Brick_sort! (generic function with 1 method)"
            ]
          },
          "metadata": {
            "tags": []
          },
          "execution_count": 4
        }
      ]
    },
    {
      "cell_type": "code",
      "metadata": {
        "id": "JSC4zsTZmtfQ",
        "colab_type": "code",
        "colab": {
          "base_uri": "https://localhost:8080/",
          "height": 503
        },
        "outputId": "b8b867f0-97cf-411f-f206-a19494e7c74a"
      },
      "source": [
        "N = 2^10\n",
        "h_in = rand(N)\n",
        "d_in = CuArray(h_in)"
      ],
      "execution_count": 7,
      "outputs": [
        {
          "output_type": "execute_result",
          "data": {
            "text/plain": [
              "1024-element CuArray{Float64,1}:\n",
              " 0.1902493749243972  \n",
              " 0.7821302651287456  \n",
              " 0.07280937099217755 \n",
              " 0.012185572215902551\n",
              " 0.9262451891956638  \n",
              " 0.8556324744097903  \n",
              " 0.36803655153967907 \n",
              " 0.09267199541584659 \n",
              " 0.7342172087957521  \n",
              " 0.8927330179376816  \n",
              " 0.740019559288948   \n",
              " 0.42934853585859645 \n",
              " 0.28768755187961026 \n",
              " ⋮                   \n",
              " 0.4837236638107367  \n",
              " 0.01743771796902638 \n",
              " 0.05329951858566795 \n",
              " 0.525737004379367   \n",
              " 0.17820009458989738 \n",
              " 0.7387487333780158  \n",
              " 0.8565021470777872  \n",
              " 0.6340072944460173  \n",
              " 0.889442887893287   \n",
              " 0.9616830460119639  \n",
              " 0.4496037222073199  \n",
              " 0.4999690274500266  "
            ]
          },
          "metadata": {
            "tags": []
          },
          "execution_count": 7
        }
      ]
    },
    {
      "cell_type": "code",
      "metadata": {
        "id": "XT7FQNinpeR7",
        "colab_type": "code",
        "colab": {}
      },
      "source": [
        "Bubble_sort!(h_in)"
      ],
      "execution_count": 0,
      "outputs": []
    },
    {
      "cell_type": "code",
      "metadata": {
        "id": "PpHZ63lLn91G",
        "colab_type": "code",
        "colab": {}
      },
      "source": [
        "@cuda blocks = Int(ceil(N/2^10)) threads = 2^9 Brick_sort!(d_in)"
      ],
      "execution_count": 0,
      "outputs": []
    },
    {
      "cell_type": "code",
      "metadata": {
        "id": "9vP5KWXWpJvV",
        "colab_type": "code",
        "colab": {
          "base_uri": "https://localhost:8080/",
          "height": 503
        },
        "outputId": "6d8f9d86-98a1-44a0-84d2-26ec47294153"
      },
      "source": [
        "h_out = Array(d_in)"
      ],
      "execution_count": 9,
      "outputs": [
        {
          "output_type": "execute_result",
          "data": {
            "text/plain": [
              "1024-element Array{Float64,1}:\n",
              " 0.0006857128740640483\n",
              " 0.000873221267461588 \n",
              " 0.002371801785977734 \n",
              " 0.0026102539807977276\n",
              " 0.003577637411283474 \n",
              " 0.0036537385431225644\n",
              " 0.0036778820996357098\n",
              " 0.0038679654661974983\n",
              " 0.004982500039236948 \n",
              " 0.005913171242535098 \n",
              " 0.006200990920913085 \n",
              " 0.008872071356957667 \n",
              " 0.009019536660738181 \n",
              " ⋮                    \n",
              " 0.9877403010629404   \n",
              " 0.989601703270774    \n",
              " 0.9901753203439232   \n",
              " 0.9922037018809802   \n",
              " 0.9927558726233445   \n",
              " 0.9936314089748262   \n",
              " 0.9944949969162256   \n",
              " 0.9961412976095607   \n",
              " 0.9973420389820165   \n",
              " 0.9978294214694181   \n",
              " 0.9996623537563409   \n",
              " 0.9997819433523107   "
            ]
          },
          "metadata": {
            "tags": []
          },
          "execution_count": 9
        }
      ]
    },
    {
      "cell_type": "code",
      "metadata": {
        "id": "5BSG66MVwika",
        "colab_type": "code",
        "colab": {
          "base_uri": "https://localhost:8080/",
          "height": 35
        },
        "outputId": "61927578-627c-4f3b-fc55-dace992bb7b0"
      },
      "source": [
        "@test isapprox(h_in,h_out)"
      ],
      "execution_count": 11,
      "outputs": [
        {
          "output_type": "execute_result",
          "data": {
            "text/plain": [
              "\u001b[32m\u001b[1mTest Passed\u001b[22m\u001b[39m"
            ]
          },
          "metadata": {
            "tags": []
          },
          "execution_count": 11
        }
      ]
    },
    {
      "cell_type": "code",
      "metadata": {
        "id": "I37FlbWm66_E",
        "colab_type": "code",
        "colab": {
          "base_uri": "https://localhost:8080/",
          "height": 215
        },
        "outputId": "ff899c92-c5b6-421d-a860-da8f82b20ee6"
      },
      "source": [
        "@benchmark Bubble_sort!(h_in)"
      ],
      "execution_count": 14,
      "outputs": [
        {
          "output_type": "execute_result",
          "data": {
            "text/plain": [
              "BenchmarkTools.Trial: \n",
              "  memory estimate:  0 bytes\n",
              "  allocs estimate:  0\n",
              "  --------------\n",
              "  minimum time:     607.592 μs (0.00% GC)\n",
              "  median time:      656.882 μs (0.00% GC)\n",
              "  mean time:        666.588 μs (0.00% GC)\n",
              "  maximum time:     1.193 ms (0.00% GC)\n",
              "  --------------\n",
              "  samples:          7483\n",
              "  evals/sample:     1"
            ]
          },
          "metadata": {
            "tags": []
          },
          "execution_count": 14
        }
      ]
    },
    {
      "cell_type": "code",
      "metadata": {
        "id": "c24Kx4yd67Qf",
        "colab_type": "code",
        "colab": {
          "base_uri": "https://localhost:8080/",
          "height": 215
        },
        "outputId": "0737a083-f0e8-4519-9611-6c0ac782e3ba"
      },
      "source": [
        "@benchmark @cuda blocks = Int(ceil(N/2^10)) threads = 2^9 Brick_sort!(d_in)"
      ],
      "execution_count": 15,
      "outputs": [
        {
          "output_type": "execute_result",
          "data": {
            "text/plain": [
              "BenchmarkTools.Trial: \n",
              "  memory estimate:  880 bytes\n",
              "  allocs estimate:  32\n",
              "  --------------\n",
              "  minimum time:     8.959 μs (0.00% GC)\n",
              "  median time:      484.666 μs (0.00% GC)\n",
              "  mean time:        439.203 μs (0.00% GC)\n",
              "  maximum time:     3.036 ms (0.00% GC)\n",
              "  --------------\n",
              "  samples:          10000\n",
              "  evals/sample:     1"
            ]
          },
          "metadata": {
            "tags": []
          },
          "execution_count": 15
        }
      ]
    },
    {
      "cell_type": "code",
      "metadata": {
        "id": "OeYHThgrwmyO",
        "colab_type": "code",
        "colab": {
          "base_uri": "https://localhost:8080/",
          "height": 35
        },
        "outputId": "3cb31f89-ac4c-41de-f2de-71217c69408e"
      },
      "source": [
        "@btime Bubble_sort!(h_in)"
      ],
      "execution_count": 12,
      "outputs": [
        {
          "output_type": "stream",
          "text": [
            "  607.549 μs (0 allocations: 0 bytes)\n"
          ],
          "name": "stdout"
        }
      ]
    },
    {
      "cell_type": "code",
      "metadata": {
        "id": "39vhA4Po5xb_",
        "colab_type": "code",
        "colab": {
          "base_uri": "https://localhost:8080/",
          "height": 35
        },
        "outputId": "13b04d06-19f7-4a9c-d278-05db3a9a7f6b"
      },
      "source": [
        "@btime @cuda blocks = Int(ceil(N/2^10)) threads = 2^9 Brick_sort!(d_in)"
      ],
      "execution_count": 13,
      "outputs": [
        {
          "output_type": "stream",
          "text": [
            "  9.053 μs (32 allocations: 880 bytes)\n"
          ],
          "name": "stdout"
        }
      ]
    },
    {
      "cell_type": "markdown",
      "metadata": {
        "id": "7mAs7q4U6BRB",
        "colab_type": "text"
      },
      "source": [
        "## Parallel implementation is about 70 times faster than serial one for input upto 10^3 elements\n",
        "### @benchmark runs the code several number of times which results in the above output(still parallel code is faster than sequential)"
      ]
    }
  ]
}