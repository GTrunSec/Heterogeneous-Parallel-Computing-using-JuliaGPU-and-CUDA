{
  "nbformat": 4,
  "nbformat_minor": 0,
  "metadata": {
    "colab": {
      "name": "Sparse-Matrix-Dense-Vector-Multiplication.ipynb",
      "version": "0.3.2",
      "provenance": [],
      "collapsed_sections": []
    },
    "kernelspec": {
      "name": "julia-1.0",
      "display_name": "Julia 1.0"
    },
    "accelerator": "GPU"
  },
  "cells": [
    {
      "cell_type": "markdown",
      "metadata": {
        "id": "KtRHFJjVn5MV",
        "colab_type": "text"
      },
      "source": [
        "# Sparse-Matrix-Dense-Vector multiplication\n",
        "\n",
        "## To multiply a sparse two-dimensional mxn matrix (containing considerable number of zeros) with an nx1 dense vector using parallel implementation of segmented reduce and avoiding insignificant calculations"
      ]
    },
    {
      "cell_type": "code",
      "metadata": {
        "id": "ubyLWrWQrb7p",
        "colab_type": "code",
        "outputId": "9a844d3b-6ec9-4848-f987-2dcc08d94b54",
        "colab": {
          "base_uri": "https://localhost:8080/",
          "height": 611
        }
      },
      "source": [
        "using Pkg\n",
        "Pkg.add(\"CuArrays\")\n",
        "Pkg.add(\"CUDAnative\")\n",
        "Pkg.add(\"CUDAdrv\")\n",
        "Pkg.add(\"StaticArrays\")\n",
        "Pkg.add(\"BenchmarkTools\")\n",
        "Pkg.add(\"Test\")"
      ],
      "execution_count": 1,
      "outputs": [
        {
          "output_type": "stream",
          "text": [
            "\u001b[32m\u001b[1m  Updating\u001b[22m\u001b[39m registry at `~/.julia/registries/General`\n",
            "\u001b[32m\u001b[1m  Updating\u001b[22m\u001b[39m git-repo `https://github.com/JuliaRegistries/General.git`\n",
            "\u001b[?25l\u001b[2K\u001b[?25h\u001b[32m\u001b[1m Resolving\u001b[22m\u001b[39m package versions...\n",
            "\u001b[32m\u001b[1m  Updating\u001b[22m\u001b[39m `~/.julia/environments/v1.0/Project.toml`\n",
            "\u001b[90m [no changes]\u001b[39m\n",
            "\u001b[32m\u001b[1m  Updating\u001b[22m\u001b[39m `~/.julia/environments/v1.0/Manifest.toml`\n",
            "\u001b[90m [no changes]\u001b[39m\n",
            "\u001b[32m\u001b[1m Resolving\u001b[22m\u001b[39m package versions...\n",
            "\u001b[32m\u001b[1m  Updating\u001b[22m\u001b[39m `~/.julia/environments/v1.0/Project.toml`\n",
            " \u001b[90m [be33ccc6]\u001b[39m\u001b[92m + CUDAnative v2.2.0\u001b[39m\n",
            "\u001b[32m\u001b[1m  Updating\u001b[22m\u001b[39m `~/.julia/environments/v1.0/Manifest.toml`\n",
            "\u001b[90m [no changes]\u001b[39m\n",
            "\u001b[32m\u001b[1m Resolving\u001b[22m\u001b[39m package versions...\n",
            "\u001b[32m\u001b[1m  Updating\u001b[22m\u001b[39m `~/.julia/environments/v1.0/Project.toml`\n",
            " \u001b[90m [c5f51814]\u001b[39m\u001b[92m + CUDAdrv v3.0.1\u001b[39m\n",
            "\u001b[32m\u001b[1m  Updating\u001b[22m\u001b[39m `~/.julia/environments/v1.0/Manifest.toml`\n",
            "\u001b[90m [no changes]\u001b[39m\n",
            "\u001b[32m\u001b[1m Resolving\u001b[22m\u001b[39m package versions...\n",
            "\u001b[32m\u001b[1m  Updating\u001b[22m\u001b[39m `~/.julia/environments/v1.0/Project.toml`\n",
            " \u001b[90m [90137ffa]\u001b[39m\u001b[92m + StaticArrays v0.11.0\u001b[39m\n",
            "\u001b[32m\u001b[1m  Updating\u001b[22m\u001b[39m `~/.julia/environments/v1.0/Manifest.toml`\n",
            "\u001b[90m [no changes]\u001b[39m\n",
            "\u001b[32m\u001b[1m Resolving\u001b[22m\u001b[39m package versions...\n",
            "\u001b[32m\u001b[1m Installed\u001b[22m\u001b[39m BenchmarkTools ─ v0.4.2\n",
            "\u001b[32m\u001b[1m  Updating\u001b[22m\u001b[39m `~/.julia/environments/v1.0/Project.toml`\n",
            " \u001b[90m [6e4b80f9]\u001b[39m\u001b[92m + BenchmarkTools v0.4.2\u001b[39m\n",
            "\u001b[32m\u001b[1m  Updating\u001b[22m\u001b[39m `~/.julia/environments/v1.0/Manifest.toml`\n",
            " \u001b[90m [6e4b80f9]\u001b[39m\u001b[92m + BenchmarkTools v0.4.2\u001b[39m\n",
            "\u001b[32m\u001b[1m Resolving\u001b[22m\u001b[39m package versions...\n",
            "\u001b[32m\u001b[1m  Updating\u001b[22m\u001b[39m `~/.julia/environments/v1.0/Project.toml`\n",
            " \u001b[90m [8dfed614]\u001b[39m\u001b[92m + Test \u001b[39m\n",
            "\u001b[32m\u001b[1m  Updating\u001b[22m\u001b[39m `~/.julia/environments/v1.0/Manifest.toml`\n",
            "\u001b[90m [no changes]\u001b[39m\n"
          ],
          "name": "stdout"
        }
      ]
    },
    {
      "cell_type": "code",
      "metadata": {
        "id": "7jPu1AFv9Y10",
        "colab_type": "code",
        "colab": {}
      },
      "source": [
        "using CUDAnative, CUDAdrv, CuArrays, StaticArrays, BenchmarkTools, Test"
      ],
      "execution_count": 0,
      "outputs": []
    },
    {
      "cell_type": "code",
      "metadata": {
        "id": "S-SCN9n6X6Ac",
        "colab_type": "code",
        "colab": {
          "base_uri": "https://localhost:8080/",
          "height": 35
        },
        "outputId": "8411b594-4392-4181-dfe1-ef3421f3d9b7"
      },
      "source": [
        "# Function to multiply a matrix and vector by traditional serial method\n",
        "\n",
        "function sequential_mult(matrix,vector)\n",
        "  return matrix * vector\n",
        "end"
      ],
      "execution_count": 3,
      "outputs": [
        {
          "output_type": "execute_result",
          "data": {
            "text/plain": [
              "sequential_mult (generic function with 1 method)"
            ]
          },
          "metadata": {
            "tags": []
          },
          "execution_count": 3
        }
      ]
    },
    {
      "cell_type": "code",
      "metadata": {
        "id": "-q1O9_Pe850q",
        "colab_type": "code",
        "colab": {
          "base_uri": "https://localhost:8080/",
          "height": 35
        },
        "outputId": "775a06af-ecb4-4294-f80e-132f9bb3ba0a"
      },
      "source": [
        "# Kernel to multiply a matrix and vector by parallel implementation of segmented reduce\n",
        "\n",
        "function SpMv(d_value,d_colidx,d_size,d_maxelement,d_out,d_vector,d_offset)\n",
        "\n",
        "  idx = (blockIdx().x - 1) * blockDim().x + threadIdx().x\n",
        "  \n",
        "  # Bounds check\n",
        "  if(idx <= size(d_value,1))\n",
        "  \n",
        "    d_out[idx] = d_vector[d_colidx[idx]]\n",
        "    d_out[idx] = d_out[idx] * d_value[idx]\n",
        "    sync_threads()\n",
        "    \n",
        "    # Segmented reduce\n",
        "    step = 1\n",
        "    \n",
        "    while step < d_maxelement\n",
        "    \n",
        "      if(((idx-d_offset[idx]) % (step * 2) == 1) && (idx + step) <= d_size[idx])\n",
        "        @inbounds d_out[idx] += d_out[idx + step]\n",
        "      end\n",
        "      \n",
        "      step *= 2\n",
        "      \n",
        "      sync_threads()\n",
        "    end  \n",
        "  \n",
        "  end\n",
        "\n",
        "return\n",
        "end"
      ],
      "execution_count": 4,
      "outputs": [
        {
          "output_type": "execute_result",
          "data": {
            "text/plain": [
              "SpMv (generic function with 1 method)"
            ]
          },
          "metadata": {
            "tags": []
          },
          "execution_count": 4
        }
      ]
    },
    {
      "cell_type": "code",
      "metadata": {
        "id": "_UMwzThonhLt",
        "colab_type": "code",
        "colab": {
          "base_uri": "https://localhost:8080/",
          "height": 35
        },
        "outputId": "fa948831-333a-43b7-b2d5-08830b13db37"
      },
      "source": [
        "# Read data from file\n",
        "\n",
        "file = open(\"/data.txt\",\"r\")"
      ],
      "execution_count": 16,
      "outputs": [
        {
          "output_type": "execute_result",
          "data": {
            "text/plain": [
              "IOStream(<file /data.txt>)"
            ]
          },
          "metadata": {
            "tags": []
          },
          "execution_count": 16
        }
      ]
    },
    {
      "cell_type": "code",
      "metadata": {
        "id": "hvj5ag3pohju",
        "colab_type": "code",
        "colab": {
          "base_uri": "https://localhost:8080/",
          "height": 35
        },
        "outputId": "906801fa-f019-4987-c0d1-5e1dff7f9817"
      },
      "source": [
        "str = read(file,String)"
      ],
      "execution_count": 17,
      "outputs": [
        {
          "output_type": "execute_result",
          "data": {
            "text/plain": [
              "\"120000450455005080701547\""
            ]
          },
          "metadata": {
            "tags": []
          },
          "execution_count": 17
        }
      ]
    },
    {
      "cell_type": "code",
      "metadata": {
        "id": "6PdRUQBApw8E",
        "colab_type": "code",
        "colab": {}
      },
      "source": [
        "# Parsing in form of matrix and vector\n",
        "\n",
        "rows = 5\n",
        "columns = 4\n",
        "matrix = zeros(Int,rows,columns)\n",
        "vector = zeros(Int,columns)\n",
        "j = 0\n",
        "for i in str\n",
        "  j += 1\n",
        "  if(j <= rows*columns)\n",
        "    if(i=='\"')\n",
        "      continue\n",
        "    else\n",
        "      matrix[j] = parse(Int,i)\n",
        "    end\n",
        "  else\n",
        "    if(i=='\"')\n",
        "      continue\n",
        "    else\n",
        "      vector[j - rows*columns] = parse(Int,i)\n",
        "    end\n",
        "  end\n",
        "end"
      ],
      "execution_count": 0,
      "outputs": []
    },
    {
      "cell_type": "code",
      "metadata": {
        "id": "MJKxzmj6pxAI",
        "colab_type": "code",
        "colab": {
          "base_uri": "https://localhost:8080/",
          "height": 125
        },
        "outputId": "b7022ae6-378c-4ba3-dac5-e2de1b1ff065"
      },
      "source": [
        "matrix"
      ],
      "execution_count": 22,
      "outputs": [
        {
          "output_type": "execute_result",
          "data": {
            "text/plain": [
              "5×4 Array{Int64,2}:\n",
              " 1  0  5  0\n",
              " 2  4  5  8\n",
              " 0  5  0  0\n",
              " 0  0  0  7\n",
              " 0  4  5  0"
            ]
          },
          "metadata": {
            "tags": []
          },
          "execution_count": 22
        }
      ]
    },
    {
      "cell_type": "code",
      "metadata": {
        "id": "MWVrCDWCwujr",
        "colab_type": "code",
        "colab": {
          "base_uri": "https://localhost:8080/",
          "height": 107
        },
        "outputId": "2a7cd14d-6822-405c-dab1-3157eea6f09c"
      },
      "source": [
        "vector"
      ],
      "execution_count": 23,
      "outputs": [
        {
          "output_type": "execute_result",
          "data": {
            "text/plain": [
              "4-element Array{Int64,1}:\n",
              " 1\n",
              " 5\n",
              " 4\n",
              " 7"
            ]
          },
          "metadata": {
            "tags": []
          },
          "execution_count": 23
        }
      ]
    },
    {
      "cell_type": "code",
      "metadata": {
        "id": "eGxql0FF6X-7",
        "colab_type": "code",
        "colab": {}
      },
      "source": [
        "# Array containing non-zero matrix values\n",
        "\n",
        "h_value = []\n",
        "for i=1:size(matrix,1)*size(matrix,2)\n",
        "  if(matrix'[i]!=0)\n",
        "    push!(h_value,matrix'[i])\n",
        "  end\n",
        "end"
      ],
      "execution_count": 0,
      "outputs": []
    },
    {
      "cell_type": "code",
      "metadata": {
        "id": "4PpNyViI66JM",
        "colab_type": "code",
        "colab": {
          "base_uri": "https://localhost:8080/",
          "height": 215
        },
        "outputId": "cd104a34-a030-44d4-b8b0-7355729fc4f6"
      },
      "source": [
        "h_value"
      ],
      "execution_count": 25,
      "outputs": [
        {
          "output_type": "execute_result",
          "data": {
            "text/plain": [
              "10-element Array{Any,1}:\n",
              " 1\n",
              " 5\n",
              " 2\n",
              " 4\n",
              " 5\n",
              " 8\n",
              " 5\n",
              " 7\n",
              " 4\n",
              " 5"
            ]
          },
          "metadata": {
            "tags": []
          },
          "execution_count": 25
        }
      ]
    },
    {
      "cell_type": "code",
      "metadata": {
        "id": "n0F9WeoY67Yv",
        "colab_type": "code",
        "colab": {}
      },
      "source": [
        "# Array containing column index of each non-zero matrix value\n",
        "\n",
        "h_colidx = []\n",
        "for i=1:size(matrix,1)*size(matrix,2)\n",
        "  if(matrix'[:][i]!=0)\n",
        "    element = i - size(matrix,2) * div(i,size(matrix,2))\n",
        "    if(element!=0)\n",
        "      push!(h_colidx,element)\n",
        "    else\n",
        "      push!(h_colidx,size(matrix,2))\n",
        "    end\n",
        "  end\n",
        "end"
      ],
      "execution_count": 0,
      "outputs": []
    },
    {
      "cell_type": "code",
      "metadata": {
        "id": "IBvJGKJA7PF-",
        "colab_type": "code",
        "colab": {
          "base_uri": "https://localhost:8080/",
          "height": 215
        },
        "outputId": "ac27cef4-0417-4e35-9ef7-750442d9a171"
      },
      "source": [
        "h_colidx"
      ],
      "execution_count": 27,
      "outputs": [
        {
          "output_type": "execute_result",
          "data": {
            "text/plain": [
              "10-element Array{Any,1}:\n",
              " 1\n",
              " 3\n",
              " 1\n",
              " 2\n",
              " 3\n",
              " 4\n",
              " 2\n",
              " 4\n",
              " 2\n",
              " 3"
            ]
          },
          "metadata": {
            "tags": []
          },
          "execution_count": 27
        }
      ]
    },
    {
      "cell_type": "code",
      "metadata": {
        "id": "KNeUnCiY9sjW",
        "colab_type": "code",
        "colab": {}
      },
      "source": [
        "# Array containing index(in h_value) of first non-zero element in matrix\n",
        "\n",
        "h_rowptr = []\n",
        "count = 0\n",
        "for i=1:size(matrix,1)\n",
        "  flag = 0\n",
        "  for j=1:size(matrix,2)\n",
        "    if(matrix[i,:][j] != 0)\n",
        "      count += 1\n",
        "    end\n",
        "    if(matrix[i,:][j] != 0 && flag == 0)\n",
        "      push!(h_rowptr,count)\n",
        "      flag = 1\n",
        "    end\n",
        "  end\n",
        "end"
      ],
      "execution_count": 0,
      "outputs": []
    },
    {
      "cell_type": "code",
      "metadata": {
        "id": "AsBZGoRDBxVu",
        "colab_type": "code",
        "colab": {
          "base_uri": "https://localhost:8080/",
          "height": 125
        },
        "outputId": "7ee431a7-0174-4b46-9c00-9c809dd5adeb"
      },
      "source": [
        "h_rowptr"
      ],
      "execution_count": 29,
      "outputs": [
        {
          "output_type": "execute_result",
          "data": {
            "text/plain": [
              "5-element Array{Any,1}:\n",
              " 1\n",
              " 3\n",
              " 7\n",
              " 8\n",
              " 9"
            ]
          },
          "metadata": {
            "tags": []
          },
          "execution_count": 29
        }
      ]
    },
    {
      "cell_type": "code",
      "metadata": {
        "id": "2GVteDDaPQIE",
        "colab_type": "code",
        "colab": {}
      },
      "source": [
        "# Array contining cumulative indices for each segment\n",
        "\n",
        "h_size = []\n",
        "k = 0\n",
        "for i=1:size(h_rowptr,1)\n",
        "  if(i!=size(h_rowptr,1))\n",
        "    element = h_rowptr[i+1]-h_rowptr[i]\n",
        "    k = element + k\n",
        "    for j=1:element\n",
        "      push!(h_size,k)\n",
        "    end\n",
        "  else\n",
        "    element = size(h_value,1)+1-h_rowptr[i]\n",
        "    k = element + k\n",
        "    for j=1:element\n",
        "      push!(h_size,k)\n",
        "    end\n",
        "  end\n",
        "end"
      ],
      "execution_count": 0,
      "outputs": []
    },
    {
      "cell_type": "code",
      "metadata": {
        "id": "LayguKdxReRF",
        "colab_type": "code",
        "colab": {
          "base_uri": "https://localhost:8080/",
          "height": 215
        },
        "outputId": "5367104c-f522-4cca-9c9c-a71722a9bd6a"
      },
      "source": [
        "h_size"
      ],
      "execution_count": 31,
      "outputs": [
        {
          "output_type": "execute_result",
          "data": {
            "text/plain": [
              "10-element Array{Any,1}:\n",
              "  2\n",
              "  2\n",
              "  6\n",
              "  6\n",
              "  6\n",
              "  6\n",
              "  7\n",
              "  8\n",
              " 10\n",
              " 10"
            ]
          },
          "metadata": {
            "tags": []
          },
          "execution_count": 31
        }
      ]
    },
    {
      "cell_type": "code",
      "metadata": {
        "id": "IJssmb5DRfbe",
        "colab_type": "code",
        "colab": {}
      },
      "source": [
        "# Array contining intermediate result and calculating maximum segment size\n",
        "\n",
        "inter = []\n",
        "for i=1:size(h_rowptr,1)\n",
        "  push!(inter,h_rowptr[i]-1)\n",
        "end\n",
        "push!(inter,size(h_value,1))\n",
        "h_maxelement = -1\n",
        "for i=1:size(h_rowptr,1)\n",
        "  if(inter[i+1]-inter[i] > h_maxelement)\n",
        "    h_maxelement = inter[i+1]-inter[i]\n",
        "  end\n",
        "end"
      ],
      "execution_count": 0,
      "outputs": []
    },
    {
      "cell_type": "code",
      "metadata": {
        "id": "vdGgEXAngPEs",
        "colab_type": "code",
        "colab": {}
      },
      "source": [
        "# Array containing offsets to the main index in kernel\n",
        "\n",
        "h_offset = []\n",
        "for i=1:size(inter,1)-1\n",
        "  for j=1:inter[i+1]-inter[i]\n",
        "    push!(h_offset,inter[i])\n",
        "  end\n",
        "end"
      ],
      "execution_count": 0,
      "outputs": []
    },
    {
      "cell_type": "code",
      "metadata": {
        "id": "aUMj1tYVTK2H",
        "colab_type": "code",
        "colab": {
          "base_uri": "https://localhost:8080/",
          "height": 215
        },
        "outputId": "c06f1563-6e02-4806-e7aa-4d3e551bbc22"
      },
      "source": [
        "# Array to store result\n",
        "\n",
        "h_out = zeros(Int,size(h_value,1))"
      ],
      "execution_count": 42,
      "outputs": [
        {
          "output_type": "execute_result",
          "data": {
            "text/plain": [
              "10-element Array{Int64,1}:\n",
              " 0\n",
              " 0\n",
              " 0\n",
              " 0\n",
              " 0\n",
              " 0\n",
              " 0\n",
              " 0\n",
              " 0\n",
              " 0"
            ]
          },
          "metadata": {
            "tags": []
          },
          "execution_count": 42
        }
      ]
    },
    {
      "cell_type": "code",
      "metadata": {
        "id": "a8Cw5GMWT5W9",
        "colab_type": "code",
        "colab": {
          "base_uri": "https://localhost:8080/",
          "height": 35
        },
        "outputId": "86c4485b-7b0b-433e-e79b-0de119838ac9"
      },
      "source": [
        "# Allocating memory and copying from host to device\n",
        "\n",
        "d_value = CuArray(Int.(h_value))\n",
        "d_colidx = CuArray(Int.(h_colidx))\n",
        "d_rowptr = CuArray(Int.(h_rowptr))\n",
        "d_size = CuArray(Int.(h_size))\n",
        "d_out = CuArray(Int.(h_out))\n",
        "d_vector = CuArray(vector)\n",
        "d_offset = CuArray(Int.(h_offset))\n",
        "d_maxelement = h_maxelement"
      ],
      "execution_count": 36,
      "outputs": [
        {
          "output_type": "execute_result",
          "data": {
            "text/plain": [
              "4"
            ]
          },
          "metadata": {
            "tags": []
          },
          "execution_count": 36
        }
      ]
    },
    {
      "cell_type": "code",
      "metadata": {
        "id": "6SdXOR0OTlgp",
        "colab_type": "code",
        "colab": {}
      },
      "source": [
        "@cuda threads = 2^9 SpMv(d_value,d_colidx,d_size,d_maxelement,d_out,d_vector,d_offset)"
      ],
      "execution_count": 0,
      "outputs": []
    },
    {
      "cell_type": "code",
      "metadata": {
        "id": "5xFA7qRnXa78",
        "colab_type": "code",
        "colab": {
          "base_uri": "https://localhost:8080/",
          "height": 125
        },
        "outputId": "849284c5-9625-4760-e277-8aac5350a516"
      },
      "source": [
        "# h_ans contains the final vector obtained\n",
        "\n",
        "h_out = Array(d_out)\n",
        "h_ans = []\n",
        "for i in h_rowptr\n",
        "  push!(h_ans,h_out[i])\n",
        "end\n",
        "h_ans = Int.(h_ans)"
      ],
      "execution_count": 39,
      "outputs": [
        {
          "output_type": "execute_result",
          "data": {
            "text/plain": [
              "5-element Array{Int64,1}:\n",
              " 21\n",
              " 98\n",
              " 25\n",
              " 49\n",
              " 40"
            ]
          },
          "metadata": {
            "tags": []
          },
          "execution_count": 39
        }
      ]
    },
    {
      "cell_type": "code",
      "metadata": {
        "id": "ub1JvOMsk-wy",
        "colab_type": "code",
        "colab": {
          "base_uri": "https://localhost:8080/",
          "height": 125
        },
        "outputId": "e0adb234-c3bb-4d93-94bd-3e33805032b1"
      },
      "source": [
        "sequential_result = sequential_mult(matrix,vector)"
      ],
      "execution_count": 40,
      "outputs": [
        {
          "output_type": "execute_result",
          "data": {
            "text/plain": [
              "5-element Array{Int64,1}:\n",
              " 21\n",
              " 98\n",
              " 25\n",
              " 49\n",
              " 40"
            ]
          },
          "metadata": {
            "tags": []
          },
          "execution_count": 40
        }
      ]
    },
    {
      "cell_type": "code",
      "metadata": {
        "id": "NJ5pWafblBvv",
        "colab_type": "code",
        "colab": {
          "base_uri": "https://localhost:8080/",
          "height": 35
        },
        "outputId": "eee43aec-6fc0-4ed5-e723-c0eff1e3d4f6"
      },
      "source": [
        "@test isapprox(sequential_result,h_ans)"
      ],
      "execution_count": 41,
      "outputs": [
        {
          "output_type": "execute_result",
          "data": {
            "text/plain": [
              "\u001b[32m\u001b[1mTest Passed\u001b[22m\u001b[39m"
            ]
          },
          "metadata": {
            "tags": []
          },
          "execution_count": 41
        }
      ]
    },
    {
      "cell_type": "code",
      "metadata": {
        "id": "-vyfrhRtlJqf",
        "colab_type": "code",
        "colab": {}
      },
      "source": [
        ""
      ],
      "execution_count": 0,
      "outputs": []
    }
  ]
}