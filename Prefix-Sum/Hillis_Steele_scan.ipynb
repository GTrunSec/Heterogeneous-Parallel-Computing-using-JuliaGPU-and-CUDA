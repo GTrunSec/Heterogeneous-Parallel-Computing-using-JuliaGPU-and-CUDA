{
  "nbformat": 4,
  "nbformat_minor": 0,
  "metadata": {
    "colab": {
      "name": "Hillis-Steele-scan.ipynb",
      "version": "0.3.2",
      "provenance": [],
      "collapsed_sections": []
    },
    "kernelspec": {
      "name": "julia-1.0",
      "display_name": "Julia 1.0"
    },
    "accelerator": "GPU"
  },
  "cells": [
    {
      "cell_type": "markdown",
      "metadata": {
        "id": "DxKC-D-PKFoQ",
        "colab_type": "text"
      },
      "source": [
        "# Hillis-Steele scan \n",
        "\n",
        "## To determine the prefix-sum of an array using parallel implementation of Hillis-Steele scan(inclusive scan)"
      ]
    },
    {
      "cell_type": "code",
      "metadata": {
        "id": "ubyLWrWQrb7p",
        "colab_type": "code",
        "outputId": "99f9174b-7806-426f-f75f-725e4a3272bb",
        "colab": {
          "base_uri": "https://localhost:8080/",
          "height": 611
        }
      },
      "source": [
        "using Pkg\n",
        "Pkg.add(\"CuArrays\")\n",
        "Pkg.add(\"CUDAnative\")\n",
        "Pkg.add(\"CUDAdrv\")\n",
        "Pkg.add(\"StaticArrays\")\n",
        "Pkg.add(\"BenchmarkTools\")\n",
        "Pkg.add(\"Test\")"
      ],
      "execution_count": 1,
      "outputs": [
        {
          "output_type": "stream",
          "text": [
            "\u001b[32m\u001b[1m  Updating\u001b[22m\u001b[39m registry at `~/.julia/registries/General`\n",
            "\u001b[32m\u001b[1m  Updating\u001b[22m\u001b[39m git-repo `https://github.com/JuliaRegistries/General.git`\n",
            "\u001b[?25l\u001b[2K\u001b[?25h\u001b[32m\u001b[1m Resolving\u001b[22m\u001b[39m package versions...\n",
            "\u001b[32m\u001b[1m  Updating\u001b[22m\u001b[39m `~/.julia/environments/v1.0/Project.toml`\n",
            "\u001b[90m [no changes]\u001b[39m\n",
            "\u001b[32m\u001b[1m  Updating\u001b[22m\u001b[39m `~/.julia/environments/v1.0/Manifest.toml`\n",
            "\u001b[90m [no changes]\u001b[39m\n",
            "\u001b[32m\u001b[1m Resolving\u001b[22m\u001b[39m package versions...\n",
            "\u001b[32m\u001b[1m  Updating\u001b[22m\u001b[39m `~/.julia/environments/v1.0/Project.toml`\n",
            " \u001b[90m [be33ccc6]\u001b[39m\u001b[92m + CUDAnative v2.2.0\u001b[39m\n",
            "\u001b[32m\u001b[1m  Updating\u001b[22m\u001b[39m `~/.julia/environments/v1.0/Manifest.toml`\n",
            "\u001b[90m [no changes]\u001b[39m\n",
            "\u001b[32m\u001b[1m Resolving\u001b[22m\u001b[39m package versions...\n",
            "\u001b[32m\u001b[1m  Updating\u001b[22m\u001b[39m `~/.julia/environments/v1.0/Project.toml`\n",
            " \u001b[90m [c5f51814]\u001b[39m\u001b[92m + CUDAdrv v3.0.1\u001b[39m\n",
            "\u001b[32m\u001b[1m  Updating\u001b[22m\u001b[39m `~/.julia/environments/v1.0/Manifest.toml`\n",
            "\u001b[90m [no changes]\u001b[39m\n",
            "\u001b[32m\u001b[1m Resolving\u001b[22m\u001b[39m package versions...\n",
            "\u001b[32m\u001b[1m  Updating\u001b[22m\u001b[39m `~/.julia/environments/v1.0/Project.toml`\n",
            " \u001b[90m [90137ffa]\u001b[39m\u001b[92m + StaticArrays v0.11.0\u001b[39m\n",
            "\u001b[32m\u001b[1m  Updating\u001b[22m\u001b[39m `~/.julia/environments/v1.0/Manifest.toml`\n",
            "\u001b[90m [no changes]\u001b[39m\n",
            "\u001b[32m\u001b[1m Resolving\u001b[22m\u001b[39m package versions...\n",
            "\u001b[32m\u001b[1m Installed\u001b[22m\u001b[39m BenchmarkTools ─ v0.4.2\n",
            "\u001b[32m\u001b[1m  Updating\u001b[22m\u001b[39m `~/.julia/environments/v1.0/Project.toml`\n",
            " \u001b[90m [6e4b80f9]\u001b[39m\u001b[92m + BenchmarkTools v0.4.2\u001b[39m\n",
            "\u001b[32m\u001b[1m  Updating\u001b[22m\u001b[39m `~/.julia/environments/v1.0/Manifest.toml`\n",
            " \u001b[90m [6e4b80f9]\u001b[39m\u001b[92m + BenchmarkTools v0.4.2\u001b[39m\n",
            "\u001b[32m\u001b[1m Resolving\u001b[22m\u001b[39m package versions...\n",
            "\u001b[32m\u001b[1m  Updating\u001b[22m\u001b[39m `~/.julia/environments/v1.0/Project.toml`\n",
            " \u001b[90m [8dfed614]\u001b[39m\u001b[92m + Test \u001b[39m\n",
            "\u001b[32m\u001b[1m  Updating\u001b[22m\u001b[39m `~/.julia/environments/v1.0/Manifest.toml`\n",
            "\u001b[90m [no changes]\u001b[39m\n"
          ],
          "name": "stdout"
        }
      ]
    },
    {
      "cell_type": "code",
      "metadata": {
        "id": "7jPu1AFv9Y10",
        "colab_type": "code",
        "colab": {}
      },
      "source": [
        "using CUDAnative, CUDAdrv, CuArrays, StaticArrays, BenchmarkTools, Test"
      ],
      "execution_count": 0,
      "outputs": []
    },
    {
      "cell_type": "code",
      "metadata": {
        "id": "4sZ52nXP_dGr",
        "colab_type": "code",
        "outputId": "af7ae629-c676-418f-9f2a-361cead1e602",
        "colab": {
          "base_uri": "https://localhost:8080/",
          "height": 35
        }
      },
      "source": [
        "const N = 2^15\n",
        "const threads = 2^9\n",
        "input = rand(N)\n",
        "\n",
        "# Number of elements to be handled by one thread\n",
        "const chunk = Int(ceil(N/threads))"
      ],
      "execution_count": 3,
      "outputs": [
        {
          "output_type": "execute_result",
          "data": {
            "text/plain": [
              "64"
            ]
          },
          "metadata": {
            "tags": []
          },
          "execution_count": 3
        }
      ]
    },
    {
      "cell_type": "code",
      "metadata": {
        "id": "ZoTI4YAl-w-E",
        "colab_type": "code",
        "outputId": "e30e9096-eb43-44b6-bfd8-b4d10729d118",
        "colab": {
          "base_uri": "https://localhost:8080/",
          "height": 35
        }
      },
      "source": [
        "# Parallel implementation of scan using thread overloading\n",
        "\n",
        "function scan(d_input)\n",
        "\n",
        "  idx=(blockIdx().x - 1) * blockDim().x + threadIdx().x\n",
        "    \n",
        "  temp = @MArray zeros(chunk)\n",
        "  \n",
        "  start = chunk * idx - (chunk-1)\n",
        "  stop = chunk * idx\n",
        "  \n",
        "  # Bounds check\n",
        "  if(idx <= min(size(d_input,1),blockDim().x))\n",
        "    step = 1\n",
        "    while step < size(d_input,1)\n",
        "    \n",
        "    for i=start:stop\n",
        "      if(i <= size(d_input,1))\n",
        "        temp[i - (idx-1)*chunk] = d_input[i]\n",
        "      end\n",
        "    end\n",
        "        \n",
        "    for i=start:stop\n",
        "      if(i + step <= size(d_input,1))\n",
        "        temp[i - (idx-1)*chunk] += d_input[i + step]\n",
        "      end\n",
        "    end\n",
        "    \n",
        "    sync_threads()\n",
        "    \n",
        "    for i=start:stop\n",
        "      if(i + step <= size(d_input,1))\n",
        "        d_input[i + step] = temp[i - (idx-1)*chunk]\n",
        "      end\n",
        "    end\n",
        "    \n",
        "    step *= 2\n",
        "    \n",
        "    end\n",
        "  end\n",
        "\n",
        "return \n",
        "end"
      ],
      "execution_count": 4,
      "outputs": [
        {
          "output_type": "execute_result",
          "data": {
            "text/plain": [
              "scan (generic function with 1 method)"
            ]
          },
          "metadata": {
            "tags": []
          },
          "execution_count": 4
        }
      ]
    },
    {
      "cell_type": "code",
      "metadata": {
        "id": "pU10PYSAFTyD",
        "colab_type": "code",
        "colab": {}
      },
      "source": [
        "d_input = CuArray(input)\n",
        "@cuda threads = threads scan(d_input)"
      ],
      "execution_count": 0,
      "outputs": []
    },
    {
      "cell_type": "code",
      "metadata": {
        "id": "xd-osHB3Fm6L",
        "colab_type": "code",
        "outputId": "dfce196b-ce87-42bc-94f2-953d57bd016f",
        "colab": {
          "base_uri": "https://localhost:8080/",
          "height": 503
        }
      },
      "source": [
        "h_output = Array(d_input)"
      ],
      "execution_count": 6,
      "outputs": [
        {
          "output_type": "execute_result",
          "data": {
            "text/plain": [
              "32768-element Array{Float64,1}:\n",
              "     0.8480796367787318\n",
              "     1.2895616854823961\n",
              "     1.4318049501822283\n",
              "     1.6638508473907994\n",
              "     2.108067134054021 \n",
              "     3.043014773082673 \n",
              "     3.402319783116667 \n",
              "     3.4788847696534653\n",
              "     4.0130649172302615\n",
              "     4.445416591435246 \n",
              "     4.6474976689544505\n",
              "     5.621696792188163 \n",
              "     6.616240449813281 \n",
              "     ⋮                 \n",
              " 16339.855034690438    \n",
              " 16339.402569634427    \n",
              " 16340.389857818265    \n",
              " 16342.874609959836    \n",
              " 16343.675543041132    \n",
              " 16344.222502458993    \n",
              " 16343.188136068726    \n",
              " 16345.509241890586    \n",
              " 16344.499983811376    \n",
              " 16344.456185058487    \n",
              " 16345.45121926814     \n",
              " 16347.447718011867    "
            ]
          },
          "metadata": {
            "tags": []
          },
          "execution_count": 6
        }
      ]
    },
    {
      "cell_type": "markdown",
      "metadata": {
        "id": "9z2XIWnwKdkB",
        "colab_type": "text"
      },
      "source": [
        "## Output is the prefix-sum (inclusive scan) of the input array "
      ]
    }
  ]
}